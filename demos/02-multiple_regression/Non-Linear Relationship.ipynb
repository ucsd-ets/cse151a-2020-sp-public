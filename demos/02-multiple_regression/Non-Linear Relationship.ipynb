{
 "cells": [
  {
   "cell_type": "markdown",
   "metadata": {},
   "source": [
    "# Linear Regression for Non-Linear Relationships"
   ]
  },
  {
   "cell_type": "code",
   "execution_count": 1,
   "metadata": {},
   "outputs": [],
   "source": [
    "import matplotlib.pyplot as plt\n",
    "import pandas as pd\n",
    "import numpy as np\n",
    "from io import StringIO"
   ]
  },
  {
   "cell_type": "markdown",
   "metadata": {},
   "source": [
    "The relationship between $x$ and $y$ in this data is non-linear:"
   ]
  },
  {
   "cell_type": "code",
   "execution_count": 2,
   "metadata": {},
   "outputs": [
    {
     "data": {
      "image/png": "[encoded data removed]",
      "text/plain": [
       "<Figure size 432x288 with 1 Axes>"
      ]
     },
     "metadata": {},
     "output_type": "display_data"
    }
   ],
   "source": [
    "np.random.seed(42)\n",
    "x = np.linspace(0, 20, 100)\n",
    "y = .5 * np.sin(.5*x) + np.random.normal(0, .2, 100)\n",
    "\n",
    "plt.scatter(x, y)\n",
    "plt.xticks([])\n",
    "plt.yticks([]);"
   ]
  },
  {
   "cell_type": "markdown",
   "metadata": {},
   "source": [
    "Nevertheless, we can still fit it using linear regression. Let's try to fit a function of the form:\n",
    "\n",
    "$$b_0 + b_1 x + b_2 x^2 + b_3 x^3 + b_4 x^4.$$\n",
    "\n",
    "\n",
    "The design matrix is \n",
    "\n",
    "$$\n",
    "\\begin{pmatrix}\n",
    "    1 & x_1 & x_1^2 & x_1^3 & x_1^4\\\\\n",
    "    1 & x_2 & x_2^2 & x_2^3 & x_2^4\\\\\n",
    "    \\vdots & \\vdots & \\vdots & \\vdots & \\vdots\\\\\n",
    "    1 & x_n & x_n^2 & x_n^3 & x_n^4\\\\\n",
    "\\end{pmatrix}\n",
    "$$\n",
    "\n",
    "In code:"
   ]
  },
  {
   "cell_type": "code",
   "execution_count": 3,
   "metadata": {},
   "outputs": [],
   "source": [
    "X = np.column_stack((\n",
    "    np.ones_like(x),\n",
    "    x,\n",
    "    x**2,\n",
    "    x**3,\n",
    "    x**4\n",
    "))"
   ]
  },
  {
   "cell_type": "markdown",
   "metadata": {},
   "source": [
    "Now we solve the normal equations, $X^\\intercal X \\vec b = X^\\intercal \\vec y$. We can do this using `np.linalg.solve`:"
   ]
  },
  {
   "cell_type": "code",
   "execution_count": 4,
   "metadata": {},
   "outputs": [
    {
     "data": {
      "text/plain": [
       "array([ 4.10016369e-02,  4.27710001e-01, -1.34676084e-01,  1.19615627e-02,\n",
       "       -3.19114108e-04])"
      ]
     },
     "execution_count": 4,
     "metadata": {},
     "output_type": "execute_result"
    }
   ],
   "source": [
    "b = np.linalg.solve(X.T @ X, X.T @ y)\n",
    "b"
   ]
  },
  {
   "cell_type": "markdown",
   "metadata": {},
   "source": [
    "Here we calculate the predicted $y$ coordinate of every point:"
   ]
  },
  {
   "cell_type": "code",
   "execution_count": 5,
   "metadata": {},
   "outputs": [
    {
     "data": {
      "text/plain": [
       "array([ 0.04100164,  0.12200937,  0.19260854,  0.25337175,  0.30485884,\n",
       "        0.34761689,  0.38218022,  0.40907041,  0.42879626,  0.44185383,\n",
       "        0.44872642,  0.44988457,  0.44578607,  0.43687594,  0.42358645,\n",
       "        0.40633713,  0.38553472,  0.36157324,  0.33483393,  0.30568527,\n",
       "        0.274483  ,  0.24157009,  0.20727676,  0.17192048,  0.13580595,\n",
       "        0.09922512,  0.06245718,  0.02576856, -0.01058705, -0.04636873,\n",
       "       -0.08134832, -0.11531041, -0.14805234, -0.17938423, -0.20912892,\n",
       "       -0.23712204, -0.26321197, -0.28725983, -0.30913951, -0.32873765,\n",
       "       -0.34595366, -0.3606997 , -0.37290067, -0.38249425, -0.38943087,\n",
       "       -0.39367371, -0.39519871, -0.39399456, -0.39006273, -0.38341742,\n",
       "       -0.3740856 , -0.362107  , -0.34753409, -0.33043211, -0.31087905,\n",
       "       -0.28896567, -0.26479548, -0.23848473, -0.21016245, -0.17997041,\n",
       "       -0.14806315, -0.11460796, -0.07978489, -0.04378673, -0.00681906,\n",
       "        0.03089982,  0.06913883,  0.10765415,  0.14618917,  0.18447456,\n",
       "        0.22222822,  0.2591553 ,  0.29494817,  0.32928647,  0.36183708,\n",
       "        0.3922541 ,  0.4201789 ,  0.44524009,  0.4670535 ,  0.48522223,\n",
       "        0.49933662,  0.50897423,  0.51369989,  0.51306567,  0.50661086,\n",
       "        0.49386203,  0.47433296,  0.44752468,  0.41292549,  0.3700109 ,\n",
       "        0.31824368,  0.25707385,  0.18593864,  0.10426257,  0.01145737,\n",
       "       -0.09307797, -0.20995723, -0.33980693, -0.48326637, -0.64098759])"
      ]
     },
     "execution_count": 5,
     "metadata": {},
     "output_type": "execute_result"
    }
   ],
   "source": [
    "y_pred = b[0] + b[1]*x + b[2]*x**2 + b[3]*x**3 + b[4]*x**4\n",
    "y_pred"
   ]
  },
  {
   "cell_type": "markdown",
   "metadata": {},
   "source": [
    "But remember, the prediction vector $\\vec h$ is also given by $X \\vec b$:"
   ]
  },
  {
   "cell_type": "code",
   "execution_count": 6,
   "metadata": {},
   "outputs": [
    {
     "data": {
      "text/plain": [
       "array([ 0.04100164,  0.12200937,  0.19260854,  0.25337175,  0.30485884,\n",
       "        0.34761689,  0.38218022,  0.40907041,  0.42879626,  0.44185383,\n",
       "        0.44872642,  0.44988457,  0.44578607,  0.43687594,  0.42358645,\n",
       "        0.40633713,  0.38553472,  0.36157324,  0.33483393,  0.30568527,\n",
       "        0.274483  ,  0.24157009,  0.20727676,  0.17192048,  0.13580595,\n",
       "        0.09922512,  0.06245718,  0.02576856, -0.01058705, -0.04636873,\n",
       "       -0.08134832, -0.11531041, -0.14805234, -0.17938423, -0.20912892,\n",
       "       -0.23712204, -0.26321197, -0.28725983, -0.30913951, -0.32873765,\n",
       "       -0.34595366, -0.3606997 , -0.37290067, -0.38249425, -0.38943087,\n",
       "       -0.39367371, -0.39519871, -0.39399456, -0.39006273, -0.38341742,\n",
       "       -0.3740856 , -0.362107  , -0.34753409, -0.33043211, -0.31087905,\n",
       "       -0.28896567, -0.26479548, -0.23848473, -0.21016245, -0.17997041,\n",
       "       -0.14806315, -0.11460796, -0.07978489, -0.04378673, -0.00681906,\n",
       "        0.03089982,  0.06913883,  0.10765415,  0.14618917,  0.18447456,\n",
       "        0.22222822,  0.2591553 ,  0.29494817,  0.32928647,  0.36183708,\n",
       "        0.3922541 ,  0.4201789 ,  0.44524009,  0.4670535 ,  0.48522223,\n",
       "        0.49933662,  0.50897423,  0.51369989,  0.51306567,  0.50661086,\n",
       "        0.49386203,  0.47433296,  0.44752468,  0.41292549,  0.3700109 ,\n",
       "        0.31824368,  0.25707385,  0.18593864,  0.10426257,  0.01145737,\n",
       "       -0.09307797, -0.20995723, -0.33980693, -0.48326637, -0.64098759])"
      ]
     },
     "execution_count": 6,
     "metadata": {},
     "output_type": "execute_result"
    }
   ],
   "source": [
    "X @ b"
   ]
  },
  {
   "cell_type": "markdown",
   "metadata": {},
   "source": [
    "Let's plot our regression line:"
   ]
  },
  {
   "cell_type": "code",
   "execution_count": 7,
   "metadata": {},
   "outputs": [
    {
     "data": {
      "text/plain": [
       "[<matplotlib.lines.Line2D at 0x7f6ef0f8b850>]"
      ]
     },
     "execution_count": 7,
     "metadata": {},
     "output_type": "execute_result"
    },
    {
     "data": {
      "image/png": "[encoded data removed]",
      "text/plain": [
       "<Figure size 432x288 with 1 Axes>"
      ]
     },
     "metadata": {
      "needs_background": "light"
     },
     "output_type": "display_data"
    }
   ],
   "source": [
    "plt.scatter(x, y)\n",
    "plt.plot(x, X @ b, color='red')"
   ]
  },
  {
   "cell_type": "markdown",
   "metadata": {},
   "source": [
    "Remember what $\\vec b$ was?"
   ]
  },
  {
   "cell_type": "code",
   "execution_count": 8,
   "metadata": {},
   "outputs": [
    {
     "data": {
      "text/plain": [
       "array([ 4.10016369e-02,  4.27710001e-01, -1.34676084e-01,  1.19615627e-02,\n",
       "       -3.19114108e-04])"
      ]
     },
     "execution_count": 8,
     "metadata": {},
     "output_type": "execute_result"
    }
   ],
   "source": [
    "b"
   ]
  },
  {
   "cell_type": "markdown",
   "metadata": {},
   "source": [
    "It turns out that numpy has a function to find the least squares regression parameters for fitting a polynomial:"
   ]
  },
  {
   "cell_type": "code",
   "execution_count": 9,
   "metadata": {},
   "outputs": [
    {
     "data": {
      "text/plain": [
       "array([-3.19114108e-04,  1.19615627e-02, -1.34676084e-01,  4.27710001e-01,\n",
       "        4.10016369e-02])"
      ]
     },
     "execution_count": 9,
     "metadata": {},
     "output_type": "execute_result"
    }
   ],
   "source": [
    "np.polyfit(x, y, deg=4)"
   ]
  },
  {
   "cell_type": "markdown",
   "metadata": {},
   "source": [
    "Notice that these are the same parameters we recovered, just in reverse order."
   ]
  },
  {
   "cell_type": "markdown",
   "metadata": {},
   "source": [
    "## Fitting higher order polynomials"
   ]
  },
  {
   "cell_type": "markdown",
   "metadata": {},
   "source": [
    "If we are trying to fit a more complicated pattern, we might try using a higher order polynomial (it will have more \"wiggles\"). But the system of equations obtained when trying to fit a high-order polynomial is often \"ill conditioned\", meaning that the small numerical errors resulting from the finite precision of computer math may lead to big inaccuracies in the final result.\n",
    "\n",
    "For example, consider the following data:"
   ]
  },
  {
   "cell_type": "code",
   "execution_count": 10,
   "metadata": {},
   "outputs": [
    {
     "data": {
      "text/plain": [
       "<matplotlib.collections.PathCollection at 0x7f6ef0f038b0>"
      ]
     },
     "execution_count": 10,
     "metadata": {},
     "output_type": "execute_result"
    },
    {
     "data": {
      "image/png": "[encoded data removed]",
      "text/plain": [
       "<Figure size 432x288 with 1 Axes>"
      ]
     },
     "metadata": {
      "needs_background": "light"
     },
     "output_type": "display_data"
    }
   ],
   "source": [
    "x = np.arange(20)\n",
    "y = x % 2\n",
    "\n",
    "plt.scatter(x, y)"
   ]
  },
  {
   "cell_type": "markdown",
   "metadata": {},
   "source": [
    "In general, any $n$ points in two dimensions can be fit *exactly* by a polynomial of degree $n+1$. For instance, any two points is fit exactly by some line, any three points can be fit by some quadratic, any four points can be fit by some cubic, and so on. So in principle, there is a polynomial of degree $21$ which fits the above data exactly. But look what happens when we try to fit a polynomial with least squares regression:"
   ]
  },
  {
   "cell_type": "code",
   "execution_count": 11,
   "metadata": {},
   "outputs": [
    {
     "name": "stderr",
     "output_type": "stream",
     "text": [
      "/usr/lib/python3.8/site-packages/IPython/core/interactiveshell.py:3331: RankWarning: Polyfit may be poorly conditioned\n",
      "  exec(code_obj, self.user_global_ns, self.user_ns)\n"
     ]
    }
   ],
   "source": [
    "b = np.polyfit(x, x%2, deg=21)"
   ]
  },
  {
   "cell_type": "markdown",
   "metadata": {},
   "source": [
    "You'll get an answer, but you probably got an ugly red message saying \"Polyfit may be poorly conditioned\". Moreover, the plot of the predictions is not so good:"
   ]
  },
  {
   "cell_type": "code",
   "execution_count": 12,
   "metadata": {},
   "outputs": [
    {
     "name": "stderr",
     "output_type": "stream",
     "text": [
      "<ipython-input-12-bed93cb2dfd4>:2: FutureWarning: arrays to stack must be passed as a \"sequence\" type such as list or tuple. Support for non-sequence iterables such as generators is deprecated as of NumPy 1.16 and will raise an error in the future.\n",
      "  predictions = np.column_stack(xx**p for p in range(22)) @ b[::-1]\n"
     ]
    },
    {
     "data": {
      "text/plain": [
       "(-2.0, 2.0)"
      ]
     },
     "execution_count": 12,
     "metadata": {},
     "output_type": "execute_result"
    },
    {
     "data": {
      "image/png": "[encoded data removed]",
      "text/plain": [
       "<Figure size 432x288 with 1 Axes>"
      ]
     },
     "metadata": {
      "needs_background": "light"
     },
     "output_type": "display_data"
    }
   ],
   "source": [
    "xx = np.linspace(0, 20, 100)\n",
    "predictions = np.column_stack(xx**p for p in range(22)) @ b[::-1]\n",
    "\n",
    "plt.plot(xx, predictions)\n",
    "plt.scatter(x, x%2)\n",
    "plt.ylim([-2,2])"
   ]
  },
  {
   "cell_type": "markdown",
   "metadata": {},
   "source": [
    "So while high-order polynomials can, in theory, describe complicated patterns, in practice they are generally unsuitable for regression due to numerical issues."
   ]
  }
 ],
 "metadata": {
  "kernelspec": {
   "display_name": "Python 3",
   "language": "python",
   "name": "python3"
  },
  "language_info": {
   "codemirror_mode": {
    "name": "ipython",
    "version": 3
   },
   "file_extension": ".py",
   "mimetype": "text/x-python",
   "name": "python",
   "nbconvert_exporter": "python",
   "pygments_lexer": "ipython3",
   "version": "3.8.2"
  }
 },
 "nbformat": 4,
 "nbformat_minor": 2
}
