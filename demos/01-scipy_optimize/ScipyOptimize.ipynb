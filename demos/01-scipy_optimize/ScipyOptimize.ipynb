{
 "cells": [
  {
   "cell_type": "markdown",
   "metadata": {},
   "source": [
    "# CSE 151A - Numerical Optimization with `scipy.optimize.minimize`"
   ]
  },
  {
   "cell_type": "markdown",
   "metadata": {},
   "source": [
    "There are many cases where we want to find the minimizer of some function. In these cases, we might use a *numerical optimization algorithm* to find the minimizer. Gradient descent is one such algorithm, but there are many others.\n",
    "\n",
    "Numerical minimization works only when we can *evaluate* our function. For instance, numerical minimization can help us minimize $f(x) = 3x^7 - 1000 x^2 - 10$, but it won't help us minimize $g(x) = a x^7 + bx^2 - 10$, because we can't evaluate the latter.\n",
    "\n",
    "The Python package `scipy` implements several numerical optimizers in its `scipy.optimize` submodule. You can get access to them with a simple `import`:"
   ]
  },
  {
   "cell_type": "code",
   "execution_count": 34,
   "metadata": {},
   "outputs": [],
   "source": [
    "import scipy.optimize"
   ]
  },
  {
   "cell_type": "markdown",
   "metadata": {},
   "source": [
    "One of the most important functions in this module is `scipy.optimize.minimize`. It provides a high-level interface to a bunch of numerical optimization algorithms. By default, the function uses a minimization algorithm known as BFGS. You can think of BFGS as gradient descent on steroids (but unlike gradient descent, BFGS needs to compute the *Hessian* matrix of second derivatives, which can be costly).\n",
    "\n",
    "The documentation of the function is quite long; here are the first few lines:"
   ]
  },
  {
   "cell_type": "code",
   "execution_count": 35,
   "metadata": {},
   "outputs": [
    {
     "name": "stdout",
     "output_type": "stream",
     "text": [
      "Minimization of scalar function of one or more variables.\n",
      "\n",
      "    Parameters\n",
      "    ----------\n",
      "    fun : callable\n",
      "        The objective function to be minimized.\n",
      "\n",
      "            ``fun(x, *args) -> float``\n",
      "\n",
      "        where x is an 1-D array with shape (n,) and `args`\n",
      "        is a tuple of the fixed parameters needed to completely\n",
      "        specify the function.\n",
      "    x0 : ndarray, shape (n,)\n",
      "        Initial guess. Array of real elements of size (n,),\n",
      "        where 'n' is the number of independent variables.\n"
     ]
    }
   ],
   "source": [
    "print('\\n'.join(scipy.optimize.minimize.__doc__.split('\\n')[:15]))"
   ]
  },
  {
   "cell_type": "markdown",
   "metadata": {},
   "source": [
    "Apparently `scipy.optimize.minimize` accepts a function and a starting location and returns the minimizer. Let's try it out."
   ]
  },
  {
   "cell_type": "markdown",
   "metadata": {},
   "source": [
    "## Example: A Polynomial Function"
   ]
  },
  {
   "cell_type": "markdown",
   "metadata": {},
   "source": [
    "Let's try to minimize $f(x) = 3x^7 - 1000x^2 - 10$. Notice that while this function is differentiable, its derivative is a polynomial of order 6. Solving for the roots of such a polynomial is quite difficult; as the [Abel-Ruffini Theorem](https://en.wikipedia.org/wiki/Abel%E2%80%93Ruffini_theorem) shows, there is \"no solution in radicals to general polynomial equations of degree five or higher with arbitrary coefficients\".\n",
    "\n",
    "In any case, we can minimize the problem easily using numerical optimization. We'll start by plotting it using `matplotlib`:"
   ]
  },
  {
   "cell_type": "code",
   "execution_count": 42,
   "metadata": {},
   "outputs": [],
   "source": [
    "import numpy as np\n",
    "import matplotlib.pyplot as plt\n",
    "plt.style.use('ggplot')"
   ]
  },
  {
   "cell_type": "code",
   "execution_count": 43,
   "metadata": {},
   "outputs": [
    {
     "data": {
      "text/plain": [
       "[<matplotlib.lines.Line2D at 0x7f52a4093be0>]"
      ]
     },
     "execution_count": 43,
     "metadata": {},
     "output_type": "execute_result"
    },
    {
     "data": {
      "image/png": "[encoded data removed]",
      "text/plain": [
       "<Figure size 432x288 with 1 Axes>"
      ]
     },
     "metadata": {},
     "output_type": "display_data"
    }
   ],
   "source": [
    "x = np.linspace(0, 4, 100)\n",
    "y = 3*x**7 - 1000*x**2 - 10\n",
    "plt.plot(x, y)"
   ]
  },
  {
   "cell_type": "markdown",
   "metadata": {},
   "source": [
    "The minimizer looks to be at around 2.5. Let's use `scipy.optimize.minimize` to find it. First, we define a function:"
   ]
  },
  {
   "cell_type": "code",
   "execution_count": 44,
   "metadata": {},
   "outputs": [],
   "source": [
    "def our_function(x):\n",
    "    return 3*x**7 - 1000*x**2 - 10"
   ]
  },
  {
   "cell_type": "markdown",
   "metadata": {},
   "source": [
    "Our function returns the value of the polynomial at whatever $x$ we put in:"
   ]
  },
  {
   "cell_type": "code",
   "execution_count": 46,
   "metadata": {},
   "outputs": [
    {
     "data": {
      "text/plain": [
       "-1681.1754449000002"
      ]
     },
     "execution_count": 46,
     "metadata": {},
     "output_type": "execute_result"
    }
   ],
   "source": [
    "our_function(1.3)"
   ]
  },
  {
   "cell_type": "markdown",
   "metadata": {},
   "source": [
    "Now let's run `scipy.optimize.minimize`:"
   ]
  },
  {
   "cell_type": "code",
   "execution_count": 53,
   "metadata": {},
   "outputs": [
    {
     "data": {
      "text/plain": [
       "      fun: -4429.735143929261\n",
       " hess_inv: array([[0.00010014]])\n",
       "      jac: array([0.])\n",
       "  message: 'Optimization terminated successfully.'\n",
       "     nfev: 33\n",
       "      nit: 6\n",
       "     njev: 11\n",
       "   status: 0\n",
       "  success: True\n",
       "        x: array([2.48749456])"
      ]
     },
     "execution_count": 53,
     "metadata": {},
     "output_type": "execute_result"
    }
   ],
   "source": [
    "scipy.optimize.minimize(our_function, x0=2)"
   ]
  },
  {
   "cell_type": "markdown",
   "metadata": {},
   "source": [
    "There is a lot of information here, but the important bit is `x: array([2.48749456])`. This is the location of the minimizer: it is around 2.487, as we expected.\n",
    "\n",
    "The minimization will even work if we had made a bad first guess:"
   ]
  },
  {
   "cell_type": "code",
   "execution_count": 55,
   "metadata": {},
   "outputs": [
    {
     "data": {
      "text/plain": [
       "      fun: -4429.7351439292615\n",
       " hess_inv: array([[0.00010553]])\n",
       "      jac: array([0.])\n",
       "  message: 'Optimization terminated successfully.'\n",
       "     nfev: 141\n",
       "      nit: 43\n",
       "     njev: 47\n",
       "   status: 0\n",
       "  success: True\n",
       "        x: array([2.48749456])"
      ]
     },
     "execution_count": 55,
     "metadata": {},
     "output_type": "execute_result"
    }
   ],
   "source": [
    "scipy.optimize.minimize(our_function, x0=200)"
   ]
  }
 ],
 "metadata": {
  "kernelspec": {
   "display_name": "Python 3",
   "language": "python",
   "name": "python3"
  },
  "language_info": {
   "codemirror_mode": {
    "name": "ipython",
    "version": 3
   },
   "file_extension": ".py",
   "mimetype": "text/x-python",
   "name": "python",
   "nbconvert_exporter": "python",
   "pygments_lexer": "ipython3",
   "version": "3.8.2"
  }
 },
 "nbformat": 4,
 "nbformat_minor": 4
}
