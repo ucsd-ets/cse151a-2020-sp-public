{
 "cells": [
  {
   "cell_type": "markdown",
   "metadata": {},
   "source": [
    "# Linear and Quadratic Discriminant Analysis"
   ]
  },
  {
   "cell_type": "code",
   "execution_count": 1,
   "metadata": {},
   "outputs": [],
   "source": [
    "import pandas as pd\n",
    "import numpy as np\n",
    "import matplotlib.pyplot as plt\n",
    "import scipy.stats"
   ]
  },
  {
   "cell_type": "markdown",
   "metadata": {},
   "source": [
    "We'll begin by reading in the train and test sets."
   ]
  },
  {
   "cell_type": "code",
   "execution_count": 7,
   "metadata": {},
   "outputs": [
    {
     "data": {
      "text/html": [
       "<div>\n",
       "<style scoped>\n",
       "    .dataframe tbody tr th:only-of-type {\n",
       "        vertical-align: middle;\n",
       "    }\n",
       "\n",
       "    .dataframe tbody tr th {\n",
       "        vertical-align: top;\n",
       "    }\n",
       "\n",
       "    .dataframe thead th {\n",
       "        text-align: right;\n",
       "    }\n",
       "</style>\n",
       "<table border=\"1\" class=\"dataframe\">\n",
       "  <thead>\n",
       "    <tr style=\"text-align: right;\">\n",
       "      <th></th>\n",
       "      <th>diagnosis</th>\n",
       "      <th>radius_mean</th>\n",
       "      <th>texture_mean</th>\n",
       "      <th>perimeter_mean</th>\n",
       "      <th>area_mean</th>\n",
       "      <th>smoothness_mean</th>\n",
       "      <th>compactness_mean</th>\n",
       "      <th>concavity_mean</th>\n",
       "      <th>concave points_mean</th>\n",
       "      <th>symmetry_mean</th>\n",
       "      <th>...</th>\n",
       "      <th>radius_worst</th>\n",
       "      <th>texture_worst</th>\n",
       "      <th>perimeter_worst</th>\n",
       "      <th>area_worst</th>\n",
       "      <th>smoothness_worst</th>\n",
       "      <th>compactness_worst</th>\n",
       "      <th>concavity_worst</th>\n",
       "      <th>concave points_worst</th>\n",
       "      <th>symmetry_worst</th>\n",
       "      <th>fractal_dimension_worst</th>\n",
       "    </tr>\n",
       "  </thead>\n",
       "  <tbody>\n",
       "    <tr>\n",
       "      <th>0</th>\n",
       "      <td>M</td>\n",
       "      <td>17.950</td>\n",
       "      <td>20.01</td>\n",
       "      <td>114.20</td>\n",
       "      <td>982.0</td>\n",
       "      <td>0.08402</td>\n",
       "      <td>0.06722</td>\n",
       "      <td>0.072930</td>\n",
       "      <td>0.055960</td>\n",
       "      <td>0.2129</td>\n",
       "      <td>...</td>\n",
       "      <td>20.58</td>\n",
       "      <td>27.83</td>\n",
       "      <td>129.20</td>\n",
       "      <td>1261.0</td>\n",
       "      <td>0.10720</td>\n",
       "      <td>0.12020</td>\n",
       "      <td>0.22490</td>\n",
       "      <td>0.11850</td>\n",
       "      <td>0.4882</td>\n",
       "      <td>0.06111</td>\n",
       "    </tr>\n",
       "    <tr>\n",
       "      <th>1</th>\n",
       "      <td>M</td>\n",
       "      <td>13.000</td>\n",
       "      <td>21.82</td>\n",
       "      <td>87.50</td>\n",
       "      <td>519.8</td>\n",
       "      <td>0.12730</td>\n",
       "      <td>0.19320</td>\n",
       "      <td>0.185900</td>\n",
       "      <td>0.093530</td>\n",
       "      <td>0.2350</td>\n",
       "      <td>...</td>\n",
       "      <td>15.49</td>\n",
       "      <td>30.73</td>\n",
       "      <td>106.20</td>\n",
       "      <td>739.3</td>\n",
       "      <td>0.17030</td>\n",
       "      <td>0.54010</td>\n",
       "      <td>0.53900</td>\n",
       "      <td>0.20600</td>\n",
       "      <td>0.4378</td>\n",
       "      <td>0.10720</td>\n",
       "    </tr>\n",
       "    <tr>\n",
       "      <th>2</th>\n",
       "      <td>M</td>\n",
       "      <td>15.300</td>\n",
       "      <td>25.27</td>\n",
       "      <td>102.40</td>\n",
       "      <td>732.4</td>\n",
       "      <td>0.10820</td>\n",
       "      <td>0.16970</td>\n",
       "      <td>0.168300</td>\n",
       "      <td>0.087510</td>\n",
       "      <td>0.1926</td>\n",
       "      <td>...</td>\n",
       "      <td>20.27</td>\n",
       "      <td>36.71</td>\n",
       "      <td>149.30</td>\n",
       "      <td>1269.0</td>\n",
       "      <td>0.16410</td>\n",
       "      <td>0.61100</td>\n",
       "      <td>0.63350</td>\n",
       "      <td>0.20240</td>\n",
       "      <td>0.4027</td>\n",
       "      <td>0.09876</td>\n",
       "    </tr>\n",
       "    <tr>\n",
       "      <th>3</th>\n",
       "      <td>B</td>\n",
       "      <td>13.530</td>\n",
       "      <td>10.94</td>\n",
       "      <td>87.91</td>\n",
       "      <td>559.2</td>\n",
       "      <td>0.12910</td>\n",
       "      <td>0.10470</td>\n",
       "      <td>0.068770</td>\n",
       "      <td>0.065560</td>\n",
       "      <td>0.2403</td>\n",
       "      <td>...</td>\n",
       "      <td>14.08</td>\n",
       "      <td>12.49</td>\n",
       "      <td>91.36</td>\n",
       "      <td>605.5</td>\n",
       "      <td>0.14510</td>\n",
       "      <td>0.13790</td>\n",
       "      <td>0.08539</td>\n",
       "      <td>0.07407</td>\n",
       "      <td>0.2710</td>\n",
       "      <td>0.07191</td>\n",
       "    </tr>\n",
       "    <tr>\n",
       "      <th>4</th>\n",
       "      <td>B</td>\n",
       "      <td>11.300</td>\n",
       "      <td>18.19</td>\n",
       "      <td>73.93</td>\n",
       "      <td>389.4</td>\n",
       "      <td>0.09592</td>\n",
       "      <td>0.13250</td>\n",
       "      <td>0.154800</td>\n",
       "      <td>0.028540</td>\n",
       "      <td>0.2054</td>\n",
       "      <td>...</td>\n",
       "      <td>12.58</td>\n",
       "      <td>27.96</td>\n",
       "      <td>87.16</td>\n",
       "      <td>472.9</td>\n",
       "      <td>0.13470</td>\n",
       "      <td>0.48480</td>\n",
       "      <td>0.74360</td>\n",
       "      <td>0.12180</td>\n",
       "      <td>0.3308</td>\n",
       "      <td>0.12970</td>\n",
       "    </tr>\n",
       "    <tr>\n",
       "      <th>...</th>\n",
       "      <td>...</td>\n",
       "      <td>...</td>\n",
       "      <td>...</td>\n",
       "      <td>...</td>\n",
       "      <td>...</td>\n",
       "      <td>...</td>\n",
       "      <td>...</td>\n",
       "      <td>...</td>\n",
       "      <td>...</td>\n",
       "      <td>...</td>\n",
       "      <td>...</td>\n",
       "      <td>...</td>\n",
       "      <td>...</td>\n",
       "      <td>...</td>\n",
       "      <td>...</td>\n",
       "      <td>...</td>\n",
       "      <td>...</td>\n",
       "      <td>...</td>\n",
       "      <td>...</td>\n",
       "      <td>...</td>\n",
       "      <td>...</td>\n",
       "    </tr>\n",
       "    <tr>\n",
       "      <th>395</th>\n",
       "      <td>B</td>\n",
       "      <td>9.683</td>\n",
       "      <td>19.34</td>\n",
       "      <td>61.05</td>\n",
       "      <td>285.7</td>\n",
       "      <td>0.08491</td>\n",
       "      <td>0.05030</td>\n",
       "      <td>0.023370</td>\n",
       "      <td>0.009615</td>\n",
       "      <td>0.1580</td>\n",
       "      <td>...</td>\n",
       "      <td>10.93</td>\n",
       "      <td>25.59</td>\n",
       "      <td>69.10</td>\n",
       "      <td>364.2</td>\n",
       "      <td>0.11990</td>\n",
       "      <td>0.09546</td>\n",
       "      <td>0.09350</td>\n",
       "      <td>0.03846</td>\n",
       "      <td>0.2552</td>\n",
       "      <td>0.07920</td>\n",
       "    </tr>\n",
       "    <tr>\n",
       "      <th>396</th>\n",
       "      <td>B</td>\n",
       "      <td>13.500</td>\n",
       "      <td>12.71</td>\n",
       "      <td>85.69</td>\n",
       "      <td>566.2</td>\n",
       "      <td>0.07376</td>\n",
       "      <td>0.03614</td>\n",
       "      <td>0.002758</td>\n",
       "      <td>0.004419</td>\n",
       "      <td>0.1365</td>\n",
       "      <td>...</td>\n",
       "      <td>14.97</td>\n",
       "      <td>16.94</td>\n",
       "      <td>95.48</td>\n",
       "      <td>698.7</td>\n",
       "      <td>0.09023</td>\n",
       "      <td>0.05836</td>\n",
       "      <td>0.01379</td>\n",
       "      <td>0.02210</td>\n",
       "      <td>0.2267</td>\n",
       "      <td>0.06192</td>\n",
       "    </tr>\n",
       "    <tr>\n",
       "      <th>397</th>\n",
       "      <td>B</td>\n",
       "      <td>12.750</td>\n",
       "      <td>16.70</td>\n",
       "      <td>82.51</td>\n",
       "      <td>493.8</td>\n",
       "      <td>0.11250</td>\n",
       "      <td>0.11170</td>\n",
       "      <td>0.038800</td>\n",
       "      <td>0.029950</td>\n",
       "      <td>0.2120</td>\n",
       "      <td>...</td>\n",
       "      <td>14.45</td>\n",
       "      <td>21.74</td>\n",
       "      <td>93.63</td>\n",
       "      <td>624.1</td>\n",
       "      <td>0.14750</td>\n",
       "      <td>0.19790</td>\n",
       "      <td>0.14230</td>\n",
       "      <td>0.08045</td>\n",
       "      <td>0.3071</td>\n",
       "      <td>0.08557</td>\n",
       "    </tr>\n",
       "    <tr>\n",
       "      <th>398</th>\n",
       "      <td>M</td>\n",
       "      <td>23.210</td>\n",
       "      <td>26.97</td>\n",
       "      <td>153.50</td>\n",
       "      <td>1670.0</td>\n",
       "      <td>0.09509</td>\n",
       "      <td>0.16820</td>\n",
       "      <td>0.195000</td>\n",
       "      <td>0.123700</td>\n",
       "      <td>0.1909</td>\n",
       "      <td>...</td>\n",
       "      <td>31.01</td>\n",
       "      <td>34.51</td>\n",
       "      <td>206.00</td>\n",
       "      <td>2944.0</td>\n",
       "      <td>0.14810</td>\n",
       "      <td>0.41260</td>\n",
       "      <td>0.58200</td>\n",
       "      <td>0.25930</td>\n",
       "      <td>0.3103</td>\n",
       "      <td>0.08677</td>\n",
       "    </tr>\n",
       "    <tr>\n",
       "      <th>399</th>\n",
       "      <td>B</td>\n",
       "      <td>10.650</td>\n",
       "      <td>25.22</td>\n",
       "      <td>68.01</td>\n",
       "      <td>347.0</td>\n",
       "      <td>0.09657</td>\n",
       "      <td>0.07234</td>\n",
       "      <td>0.023790</td>\n",
       "      <td>0.016150</td>\n",
       "      <td>0.1897</td>\n",
       "      <td>...</td>\n",
       "      <td>12.25</td>\n",
       "      <td>35.19</td>\n",
       "      <td>77.98</td>\n",
       "      <td>455.7</td>\n",
       "      <td>0.14990</td>\n",
       "      <td>0.13980</td>\n",
       "      <td>0.11250</td>\n",
       "      <td>0.06136</td>\n",
       "      <td>0.3409</td>\n",
       "      <td>0.08147</td>\n",
       "    </tr>\n",
       "  </tbody>\n",
       "</table>\n",
       "<p>400 rows × 31 columns</p>\n",
       "</div>"
      ],
      "text/plain": [
       "    diagnosis  radius_mean  texture_mean  perimeter_mean  area_mean  \\\n",
       "0           M       17.950         20.01          114.20      982.0   \n",
       "1           M       13.000         21.82           87.50      519.8   \n",
       "2           M       15.300         25.27          102.40      732.4   \n",
       "3           B       13.530         10.94           87.91      559.2   \n",
       "4           B       11.300         18.19           73.93      389.4   \n",
       "..        ...          ...           ...             ...        ...   \n",
       "395         B        9.683         19.34           61.05      285.7   \n",
       "396         B       13.500         12.71           85.69      566.2   \n",
       "397         B       12.750         16.70           82.51      493.8   \n",
       "398         M       23.210         26.97          153.50     1670.0   \n",
       "399         B       10.650         25.22           68.01      347.0   \n",
       "\n",
       "     smoothness_mean  compactness_mean  concavity_mean  concave points_mean  \\\n",
       "0            0.08402           0.06722        0.072930             0.055960   \n",
       "1            0.12730           0.19320        0.185900             0.093530   \n",
       "2            0.10820           0.16970        0.168300             0.087510   \n",
       "3            0.12910           0.10470        0.068770             0.065560   \n",
       "4            0.09592           0.13250        0.154800             0.028540   \n",
       "..               ...               ...             ...                  ...   \n",
       "395          0.08491           0.05030        0.023370             0.009615   \n",
       "396          0.07376           0.03614        0.002758             0.004419   \n",
       "397          0.11250           0.11170        0.038800             0.029950   \n",
       "398          0.09509           0.16820        0.195000             0.123700   \n",
       "399          0.09657           0.07234        0.023790             0.016150   \n",
       "\n",
       "     symmetry_mean  ...  radius_worst  texture_worst  perimeter_worst  \\\n",
       "0           0.2129  ...         20.58          27.83           129.20   \n",
       "1           0.2350  ...         15.49          30.73           106.20   \n",
       "2           0.1926  ...         20.27          36.71           149.30   \n",
       "3           0.2403  ...         14.08          12.49            91.36   \n",
       "4           0.2054  ...         12.58          27.96            87.16   \n",
       "..             ...  ...           ...            ...              ...   \n",
       "395         0.1580  ...         10.93          25.59            69.10   \n",
       "396         0.1365  ...         14.97          16.94            95.48   \n",
       "397         0.2120  ...         14.45          21.74            93.63   \n",
       "398         0.1909  ...         31.01          34.51           206.00   \n",
       "399         0.1897  ...         12.25          35.19            77.98   \n",
       "\n",
       "     area_worst  smoothness_worst  compactness_worst  concavity_worst  \\\n",
       "0        1261.0           0.10720            0.12020          0.22490   \n",
       "1         739.3           0.17030            0.54010          0.53900   \n",
       "2        1269.0           0.16410            0.61100          0.63350   \n",
       "3         605.5           0.14510            0.13790          0.08539   \n",
       "4         472.9           0.13470            0.48480          0.74360   \n",
       "..          ...               ...                ...              ...   \n",
       "395       364.2           0.11990            0.09546          0.09350   \n",
       "396       698.7           0.09023            0.05836          0.01379   \n",
       "397       624.1           0.14750            0.19790          0.14230   \n",
       "398      2944.0           0.14810            0.41260          0.58200   \n",
       "399       455.7           0.14990            0.13980          0.11250   \n",
       "\n",
       "     concave points_worst  symmetry_worst  fractal_dimension_worst  \n",
       "0                 0.11850          0.4882                  0.06111  \n",
       "1                 0.20600          0.4378                  0.10720  \n",
       "2                 0.20240          0.4027                  0.09876  \n",
       "3                 0.07407          0.2710                  0.07191  \n",
       "4                 0.12180          0.3308                  0.12970  \n",
       "..                    ...             ...                      ...  \n",
       "395               0.03846          0.2552                  0.07920  \n",
       "396               0.02210          0.2267                  0.06192  \n",
       "397               0.08045          0.3071                  0.08557  \n",
       "398               0.25930          0.3103                  0.08677  \n",
       "399               0.06136          0.3409                  0.08147  \n",
       "\n",
       "[400 rows x 31 columns]"
      ]
     },
     "execution_count": 7,
     "metadata": {},
     "output_type": "execute_result"
    }
   ],
   "source": [
    "train_full = pd.read_csv('train.csv')\n",
    "test_full = pd.read_csv('test.csv')\n",
    "train_full"
   ]
  },
  {
   "cell_type": "markdown",
   "metadata": {},
   "source": [
    "The train and test data tables have a column `diagnosis` that we should use as the labels. We'll split this off into its own vector. Each entry of the column is either \"B\" (for benign) or \"M\" (for malignant). We'll convert this to `True`/`False`:"
   ]
  },
  {
   "cell_type": "code",
   "execution_count": 8,
   "metadata": {},
   "outputs": [],
   "source": [
    "train_y = train_full.iloc[:, 0] == 'M'\n",
    "train_X = train_full.iloc[:,1:]\n",
    "test_y = test_full.iloc[:, 0] == 'M'\n",
    "test_X = test_full.iloc[:,1:]"
   ]
  },
  {
   "cell_type": "markdown",
   "metadata": {},
   "source": [
    "# Plots\n",
    "\n",
    "Let's make scatter plots of radius vs. texture. We want one scatter plot for each class so that we can see if there is any separation:"
   ]
  },
  {
   "cell_type": "code",
   "execution_count": 12,
   "metadata": {},
   "outputs": [
    {
     "data": {
      "image/png": "[encoded data removed]",
      "text/plain": [
       "<Figure size 432x288 with 1 Axes>"
      ]
     },
     "metadata": {
      "needs_background": "light"
     },
     "output_type": "display_data"
    }
   ],
   "source": [
    "ax = train_X[train_y].plot(kind='scatter', x='radius_mean', y='texture_mean', label='Malignant')\n",
    "train_X[~train_y].plot(kind='scatter', x='radius_mean', y='texture_mean', ax=ax, color='C1', label='Benign')\n",
    "plt.savefig('scatter.pdf', bbox_inches='tight')"
   ]
  },
  {
   "cell_type": "markdown",
   "metadata": {},
   "source": [
    "Here we see that the distribution of the malignant tumors is quite different from the distribution of the benign tumors. Fitting Gaussians to each class separately looks like it will be a good way to make predictions."
   ]
  },
  {
   "cell_type": "markdown",
   "metadata": {},
   "source": [
    "# Standardization\n",
    "\n",
    "The question asks us to standardize the data before performing LDA and QDA. We compute the mean and standard deviation of each feature in the training set:"
   ]
  },
  {
   "cell_type": "code",
   "execution_count": 17,
   "metadata": {},
   "outputs": [],
   "source": [
    "mu = train_X.mean(axis=0)\n",
    "sigma = train_X.std(axis=0)"
   ]
  },
  {
   "cell_type": "markdown",
   "metadata": {},
   "source": [
    "We then standardize both the training and test set with these statistics:"
   ]
  },
  {
   "cell_type": "code",
   "execution_count": 18,
   "metadata": {},
   "outputs": [],
   "source": [
    "train_X_std = (train_X - mu)/sigma\n",
    "test_X_std = (test_X - mu)/sigma"
   ]
  },
  {
   "cell_type": "markdown",
   "metadata": {},
   "source": [
    "## Linear Discriminant Analysis\n",
    "\n",
    "In part (b), we're asked to perform LDA by estimating each class-conditional density with a diagonal covariance matrix. Remember that in LDA, both covariance matrices must be the same! So we have to compute a \"shared' covariance matrix. In the lecture, we saw that we can do this by fitting diagonal covariance matrices $C_1$ and $C_0$ to each class (malignant and benign) and combining them by weighted average: $(n_1 C_1 + n_0 C_0)/ (n_1 + n_0)$.\n",
    "\n",
    "But to get started, we need to compute diagonal covariance matrices for each class, separately. Remember that the diagonal entries of the covariance matrix are just the variances of each feature. So to compute the diagonal covariance matrix, we simply compute the variances and put them into the diagonal of a square matrix. Here's a helper function that does just that:"
   ]
  },
  {
   "cell_type": "code",
   "execution_count": 19,
   "metadata": {},
   "outputs": [],
   "source": [
    "def fit_diagonal_gaussian(X):\n",
    "    mu = X.mean(axis=0)\n",
    "    C = np.diag(X.var())\n",
    "    return mu, C"
   ]
  },
  {
   "cell_type": "markdown",
   "metadata": {},
   "source": [
    "Now we compute the mean of each class and the diagonal covariance for each class:"
   ]
  },
  {
   "cell_type": "code",
   "execution_count": 20,
   "metadata": {},
   "outputs": [],
   "source": [
    "mu_1, C_1 = fit_diagonal_gaussian(train_X_std[train_y])\n",
    "mu_0, C_0 = fit_diagonal_gaussian(train_X_std[~train_y])"
   ]
  },
  {
   "cell_type": "markdown",
   "metadata": {},
   "source": [
    "We then combine the covariance matrices:"
   ]
  },
  {
   "cell_type": "code",
   "execution_count": 24,
   "metadata": {},
   "outputs": [],
   "source": [
    "n = len(train_X_std)\n",
    "n_1 = train_y.sum()\n",
    "n_0 = n - n_1\n",
    "\n",
    "C = (n_1 * C_1 + n_0 * C_0) / (n_1 + n_0)"
   ]
  },
  {
   "cell_type": "markdown",
   "metadata": {},
   "source": [
    "Now we need to evaluate the Bayes Classifier. First we'll make predictions on the training set, then on the test set. Remember that we pick the class which maximizes:\n",
    "\n",
    "$$\n",
    "P(X = \\vec x | Y = y_i) P(Y = y_i)\n",
    "$$\n",
    "\n",
    "In this case, $P(Y = 1) = n_1/n$ and $P(Y = 0) = n_0/n$, and $P(X = \\vec x | Y= y_i)$ is given by evaluating the multivariate normal distributions fit above:"
   ]
  },
  {
   "cell_type": "code",
   "execution_count": 29,
   "metadata": {},
   "outputs": [],
   "source": [
    "p_1 = scipy.stats.multivariate_normal.pdf(train_X_std, mu_1, C) * n_1 / n\n",
    "p_0 = scipy.stats.multivariate_normal.pdf(train_X_std, mu_0, C) * n_0 / n"
   ]
  },
  {
   "cell_type": "markdown",
   "metadata": {},
   "source": [
    "We predict \"Malignant\" if $p_1 > p_0$. Here are the predictions on the training set."
   ]
  },
  {
   "cell_type": "code",
   "execution_count": 30,
   "metadata": {},
   "outputs": [],
   "source": [
    "train_predictions = p_1 > p_0"
   ]
  },
  {
   "cell_type": "markdown",
   "metadata": {},
   "source": [
    "Let's calculate the accuracy (how many times is our prediction right?)"
   ]
  },
  {
   "cell_type": "code",
   "execution_count": 31,
   "metadata": {},
   "outputs": [
    {
     "data": {
      "text/plain": [
       "0.94"
      ]
     },
     "execution_count": 31,
     "metadata": {},
     "output_type": "execute_result"
    }
   ],
   "source": [
    "(train_predictions == train_y).mean()"
   ]
  },
  {
   "cell_type": "markdown",
   "metadata": {},
   "source": [
    "The error is the inverse of this: 1 - accuracy."
   ]
  },
  {
   "cell_type": "code",
   "execution_count": 32,
   "metadata": {},
   "outputs": [
    {
     "data": {
      "text/plain": [
       "0.06000000000000005"
      ]
     },
     "execution_count": 32,
     "metadata": {},
     "output_type": "execute_result"
    }
   ],
   "source": [
    "1 - (train_predictions == train_y).mean()"
   ]
  },
  {
   "cell_type": "markdown",
   "metadata": {},
   "source": [
    "Next we evaluate on the test set:"
   ]
  },
  {
   "cell_type": "code",
   "execution_count": 33,
   "metadata": {},
   "outputs": [],
   "source": [
    "p_1_test = scipy.stats.multivariate_normal.pdf(test_X_std, mu_1, C) * n_1 / n\n",
    "p_0_test = scipy.stats.multivariate_normal.pdf(test_X_std, mu_0, C) * n_0 / n"
   ]
  },
  {
   "cell_type": "markdown",
   "metadata": {},
   "source": [
    "Here is the test error:"
   ]
  },
  {
   "cell_type": "code",
   "execution_count": 35,
   "metadata": {},
   "outputs": [
    {
     "data": {
      "text/plain": [
       "0.059171597633136064"
      ]
     },
     "execution_count": 35,
     "metadata": {},
     "output_type": "execute_result"
    }
   ],
   "source": [
    "1 - ((p_1_test > p_0_test) == test_y).mean()"
   ]
  },
  {
   "cell_type": "markdown",
   "metadata": {},
   "source": [
    "## Full Gaussians\n",
    "\n",
    "In part (c), we're asked to do QDA by estimating each class-conditional density with a full Gaussian. Remember that the difference between QDA and LDA is that we do not use the same covariance matrix for both classes (it isn't about using diagonal or full covariances. We could do LDA with a full covariance.).\n",
    "\n",
    "In lecture, we saw that one way of computing the empirical covariance matrix of a set of vectors is to place all of the vectors into the rows of an $n \\times d$ matrix (where $n$ is the number of data vectors), and to compute $(X - \\vec \\mu)^T (X - \\vec \\mu) / n$, where $\\vec \\mu$ is the mean of the data vectors. Here's a helper function that does just this:"
   ]
  },
  {
   "cell_type": "code",
   "execution_count": 36,
   "metadata": {},
   "outputs": [],
   "source": [
    "def fit_gaussian(X):\n",
    "    mu = X.mean(axis=0)\n",
    "    C = (X - mu).T @ (X - mu) / len(X)\n",
    "    return mu, C"
   ]
  },
  {
   "cell_type": "code",
   "execution_count": 39,
   "metadata": {},
   "outputs": [],
   "source": [
    "mu_1, C_1 = fit_gaussian(train_X_std[train_y])\n",
    "mu_0, C_0 = fit_gaussian(train_X_std[~train_y])"
   ]
  },
  {
   "cell_type": "markdown",
   "metadata": {},
   "source": [
    "Here is the performance on the training set:"
   ]
  },
  {
   "cell_type": "code",
   "execution_count": 40,
   "metadata": {},
   "outputs": [],
   "source": [
    "p_1 = scipy.stats.multivariate_normal.pdf(train_X_std, mu_1, C_1) * n_1 / n\n",
    "p_0 = scipy.stats.multivariate_normal.pdf(train_X_std, mu_0, C_0) * n_0 / n"
   ]
  },
  {
   "cell_type": "code",
   "execution_count": 41,
   "metadata": {},
   "outputs": [
    {
     "data": {
      "text/plain": [
       "0.03249999999999997"
      ]
     },
     "execution_count": 41,
     "metadata": {},
     "output_type": "execute_result"
    }
   ],
   "source": [
    "1 - ((p_1 > p_0) == train_y).mean()"
   ]
  },
  {
   "cell_type": "markdown",
   "metadata": {},
   "source": [
    "And here is the error on the test set:"
   ]
  },
  {
   "cell_type": "code",
   "execution_count": 42,
   "metadata": {},
   "outputs": [],
   "source": [
    "p_1_test = scipy.stats.multivariate_normal.pdf(test_X_std, mu_1, C_1) * n_1 / n\n",
    "p_0_test = scipy.stats.multivariate_normal.pdf(test_X_std, mu_0, C_0) * n_0 / n"
   ]
  },
  {
   "cell_type": "code",
   "execution_count": 43,
   "metadata": {},
   "outputs": [
    {
     "data": {
      "text/plain": [
       "0.029585798816568087"
      ]
     },
     "execution_count": 43,
     "metadata": {},
     "output_type": "execute_result"
    }
   ],
   "source": [
    "1 - ((p_1_test > p_0_test) == test_y).mean()"
   ]
  }
 ],
 "metadata": {
  "kernelspec": {
   "display_name": "Python 3",
   "language": "python",
   "name": "python3"
  },
  "language_info": {
   "codemirror_mode": {
    "name": "ipython",
    "version": 3
   },
   "file_extension": ".py",
   "mimetype": "text/x-python",
   "name": "python",
   "nbconvert_exporter": "python",
   "pygments_lexer": "ipython3",
   "version": "3.8.2"
  }
 },
 "nbformat": 4,
 "nbformat_minor": 2
}
