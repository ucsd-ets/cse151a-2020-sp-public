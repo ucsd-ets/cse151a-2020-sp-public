{
 "cells": [
  {
   "cell_type": "markdown",
   "metadata": {},
   "source": [
    "# Robust Single Linkage"
   ]
  },
  {
   "cell_type": "code",
   "execution_count": 1,
   "metadata": {},
   "outputs": [],
   "source": [
    "import numpy as np\n",
    "import networkx as nx # For easily getting connected components!"
   ]
  },
  {
   "cell_type": "code",
   "execution_count": 2,
   "metadata": {},
   "outputs": [],
   "source": [
    "data = np.array([0, 1, 3, 6, 10, 15])\n",
    "\n",
    "k = 2\n",
    "alpha = 0.5"
   ]
  },
  {
   "cell_type": "code",
   "execution_count": 3,
   "metadata": {},
   "outputs": [],
   "source": [
    "def get_distances(x, X):\n",
    "    \"\"\"\n",
    "    Gets the distances from a point x to all other points in X.\n",
    "    \"\"\"\n",
    "    \n",
    "    # A classic Euclidean distance.\n",
    "    distances = np.sqrt((X - x)**2)\n",
    "    \n",
    "    return distances"
   ]
  },
  {
   "cell_type": "code",
   "execution_count": 4,
   "metadata": {},
   "outputs": [],
   "source": [
    "def get_rk(x, X):\n",
    "    \"\"\"\n",
    "    Gets the distance from a point x to its kth nearest neighbor in X.\n",
    "    \"\"\"\n",
    "    \n",
    "    distances = get_distances(x, X)\n",
    "    \n",
    "    # This function will 'partition' our array such that the element in the kth\n",
    "    # index is where it would be in a sorted array, with everything to the left\n",
    "    # of it less, and everything to the right of it greater.\n",
    "    return np.partition(distances, kth=k)[k]"
   ]
  },
  {
   "cell_type": "code",
   "execution_count": 5,
   "metadata": {},
   "outputs": [
    {
     "name": "stdout",
     "output_type": "stream",
     "text": [
      "Timestep r=1\n",
      "\tV = set()               \tE = set()\n",
      "\tClusters = []\n",
      "\n",
      "Timestep r=2\n",
      "\tV = {1}                 \tE = set()\n",
      "\tClusters = [{1}]\n",
      "\n",
      "Timestep r=3\n",
      "\tV = {0, 1, 3}           \tE = {(0, 1)}\n",
      "\tClusters = [{0, 1}, {3}]\n",
      "\n",
      "Timestep r=4\n",
      "\tV = {0, 1, 3, 6}        \tE = {(0, 1), (1, 3)}\n",
      "\tClusters = [{0, 1, 3}, {6}]\n",
      "\n",
      "Timestep r=5\n",
      "\tV = {0, 1, 3, 6, 10}    \tE = {(0, 1), (1, 3)}\n",
      "\tClusters = [{0, 1, 3}, {6}, {10}]\n",
      "\n",
      "Timestep r=6\n",
      "\tV = {0, 1, 3, 6, 10}    \tE = {(0, 1), (0, 3), (1, 3), (3, 6)}\n",
      "\tClusters = [{0, 1, 3, 6}, {10}]\n",
      "\n",
      "Timestep r=7\n",
      "\tV = {0, 1, 3, 6, 10}    \tE = {(0, 1), (0, 3), (1, 3), (3, 6)}\n",
      "\tClusters = [{0, 1, 3, 6}, {10}]\n",
      "\n",
      "Timestep r=8\n",
      "\tV = {0, 1, 3, 6, 10}    \tE = {(0, 1), (1, 3), (6, 10), (3, 6), (0, 3)}\n",
      "\tClusters = [{0, 1, 3, 6, 10}]\n",
      "\n",
      "Timestep r=9\n",
      "\tV = {0, 1, 3, 6, 10, 15}\tE = {(0, 1), (1, 3), (6, 10), (3, 6), (0, 3)}\n",
      "\tClusters = [{0, 1, 3, 6, 10}, {15}]\n",
      "\n"
     ]
    }
   ],
   "source": [
    "for r in range(1, 9+1):\n",
    "    \n",
    "    rks = np.array([get_rk(x, data) for x in data])\n",
    "    V = data[rks <= r]\n",
    "\n",
    "    # Only look at allowed nodes from V.\n",
    "    dists = np.array([get_distances(x, V) for x in V])\n",
    "    \n",
    "    # Gets the indices where the distance is less than alpha*r\n",
    "    # Taking the upper-triangle (triu) and excluding the diagonal (k=1) so that\n",
    "    # we don't get any duplicate edges or self-loops.\n",
    "    edge_indices = np.argwhere(np.triu(dists <= alpha*r, k=1))\n",
    "    E = data[edge_indices]\n",
    "    \n",
    "    # Actually create a Graph using NetworkX!  This allows us to easily get the\n",
    "    # connected components (clusters)\n",
    "    G = nx.Graph()\n",
    "    G.add_nodes_from(V)\n",
    "    G.add_edges_from(E)\n",
    "    clusters = list(nx.connected_components(G))\n",
    "    \n",
    "    print(f\"Timestep r={r}\")\n",
    "    print(f\"\\tV = {str(set(V)):20s}\\tE = {set(tuple(e) for e in E)}\")\n",
    "    print(f\"\\tClusters = {clusters}\")\n",
    "    print()\n"
   ]
  },
  {
   "cell_type": "code",
   "execution_count": 8,
   "metadata": {},
   "outputs": [
    {
     "data": {
      "image/png": "[encoded data removed]",
      "text/plain": [
       "<Figure size 432x288 with 1 Axes>"
      ]
     },
     "metadata": {
      "needs_background": "light"
     },
     "output_type": "display_data"
    }
   ],
   "source": [
    "# Sure enough, we can use SciPy with a custom metric.\n",
    "#\n",
    "# Though, the final result will basically go from r=0 to infinity (until all\n",
    "# clusters are merged).  But we can't peer inside to see each timestep.\n",
    "from scipy.cluster.hierarchy import linkage, dendrogram\n",
    "\n",
    "\n",
    "def robust_metric(a, b):\n",
    "    return max(get_rk(a, data), get_rk(b, data), 1/alpha * np.sqrt((a - b)**2))\n",
    "\n",
    "# SciPy wants an (n, d) data matrix.\n",
    "linked = linkage(data[:, np.newaxis], method=\"single\", metric=robust_metric)\n",
    "\n",
    "dendrogram(linked, labels=data);"
   ]
  },
  {
   "cell_type": "code",
   "execution_count": null,
   "metadata": {},
   "outputs": [],
   "source": []
  }
 ],
 "metadata": {
  "kernelspec": {
   "display_name": "Python 3",
   "language": "python",
   "name": "python3"
  },
  "language_info": {
   "codemirror_mode": {
    "name": "ipython",
    "version": 3
   },
   "file_extension": ".py",
   "mimetype": "text/x-python",
   "name": "python",
   "nbconvert_exporter": "python",
   "pygments_lexer": "ipython3",
   "version": "3.6.7"
  }
 },
 "nbformat": 4,
 "nbformat_minor": 2
}