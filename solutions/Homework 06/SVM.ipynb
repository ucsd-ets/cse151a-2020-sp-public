{
 "cells": [
  {
   "cell_type": "markdown",
   "metadata": {},
   "source": [
    "# Plus Problem 1"
   ]
  },
  {
   "cell_type": "markdown",
   "metadata": {},
   "source": [
    "This is a legitimate machine learning mini-project that ties together several ideas, so it it worth 16 plus points.\n",
    "\n",
    "The file http://cse151a.com/data/yelp/train.csv contains 10,000 Yelp reviews along with the score the user left (from 1 to 5, with 5 being best).  In this plus problem, you'll train an SVM to do sentiment analysis on these reviews and predict the sentiment of an unlabeled piece of text."
   ]
  },
  {
   "cell_type": "markdown",
   "metadata": {},
   "source": [
    "a) Split the data 75%/25% into training and validation sets, encode teh training data using a bag of words feature representation, and train a (linear, soft-margin) support vector machine.  When training, consider any review with a score of 4 or higher to be a positive review, and anything with a smaller score to be a negative review.  Find the value of $C$ that minimizes the error of your classifier on the validation set and make a plot of the validation error as a function of $C$.\n",
    "\n",
    "  For this part, turn in four things:\n",
    "  1. The value of $C$ that was best,\n",
    "  1. the training and validation error that corresponded to this choice of $C$,\n",
    "  1. your plot, and\n",
    "  1. your code\n",
    "  \n",
    "You can use whatever machine learning libraries you like in whatever language you'd like.  Note that most languages have libraries which will do the bag-of-words encoding for you.  For instance, `sklearn` has this feature (but I'll let you Google for it!)."
   ]
  },
  {
   "cell_type": "code",
   "execution_count": 1,
   "metadata": {},
   "outputs": [],
   "source": [
    "import numpy as np\n",
    "import pandas as pd\n",
    "import sklearn\n",
    "import matplotlib.pyplot as plt"
   ]
  },
  {
   "cell_type": "code",
   "execution_count": 2,
   "metadata": {},
   "outputs": [],
   "source": [
    "data = pd.read_csv(\"./train.csv\")"
   ]
  },
  {
   "cell_type": "markdown",
   "metadata": {},
   "source": [
    "Using sklearn's train_test_split to randomly split our data into training and validation sets.  We're doing this before setting up our bag of words since we only want to build our dictionary using the trainig set."
   ]
  },
  {
   "cell_type": "code",
   "execution_count": 3,
   "metadata": {},
   "outputs": [],
   "source": [
    "# Create boolean class \"Positive?\"\n",
    "data[\"Positive\"] = data.Rating >= 4"
   ]
  },
  {
   "cell_type": "code",
   "execution_count": 4,
   "metadata": {},
   "outputs": [],
   "source": [
    "from sklearn.model_selection import train_test_split\n",
    "\n",
    "train, valid = train_test_split(data, train_size=0.75)"
   ]
  },
  {
   "cell_type": "markdown",
   "metadata": {},
   "source": [
    "We'll use sklearn's CountVectorizer to quickly make bag-of-words encodings.  Each review will be encoded as a vector with length corresponding to a dictionary and entries as the number of occurrences of each word in the dictionary.\n",
    "\n",
    "Since there are likely to be words that show up very few times in reviews, and thus aren't able to be learned from, it makes sense to cap our dictionary size to only the $k$ most frequently occurring words across all of our reviews.  The value of $k$ can be played with, but as the dictionary gets too large training becomes more expensive and the added terms are unlikely to carry much power.\n",
    "\n",
    "There are likely to be words which show up very commonly but act merely as syntactical structure, and don't carry much meaning, such as *\"the, and, a, to, of, ...\"*.  These are considered 'stop-words', and can often be removed from our encodings to improve the model performance.\n",
    "\n",
    "See the [CountVectorizer documentation](https://scikit-learn.org/stable/modules/generated/sklearn.feature_extraction.text.CountVectorizer.html)."
   ]
  },
  {
   "cell_type": "code",
   "execution_count": 5,
   "metadata": {},
   "outputs": [],
   "source": [
    "# Engineer the bag-of-words using sklearn's CountVectorizer\n",
    "from sklearn.feature_extraction.text import CountVectorizer\n",
    "\n",
    "vectorizer = CountVectorizer(stop_words=\"english\", max_features=10_000)"
   ]
  },
  {
   "cell_type": "code",
   "execution_count": 6,
   "metadata": {},
   "outputs": [
    {
     "data": {
      "text/plain": [
       "CountVectorizer(analyzer='word', binary=False, decode_error='strict',\n",
       "                dtype=<class 'numpy.int64'>, encoding='utf-8', input='content',\n",
       "                lowercase=True, max_df=1.0, max_features=10000, min_df=1,\n",
       "                ngram_range=(1, 1), preprocessor=None, stop_words='english',\n",
       "                strip_accents=None, token_pattern='(?u)\\\\b\\\\w\\\\w+\\\\b',\n",
       "                tokenizer=None, vocabulary=None)"
      ]
     },
     "execution_count": 6,
     "metadata": {},
     "output_type": "execute_result"
    }
   ],
   "source": [
    "vectorizer.fit(train.Review)"
   ]
  },
  {
   "cell_type": "code",
   "execution_count": 7,
   "metadata": {},
   "outputs": [],
   "source": [
    "# This returns a sparse matrix!  If we want to work with it easily (though\n",
    "# at the cost of memory), we can cast it to a numpy array.\n",
    "X_train = vectorizer.transform(train.Review).toarray()\n",
    "X_valid = vectorizer.transform(valid.Review).toarray()"
   ]
  },
  {
   "cell_type": "code",
   "execution_count": 8,
   "metadata": {},
   "outputs": [],
   "source": [
    "y_train = train.Positive\n",
    "y_valid = valid.Positive"
   ]
  },
  {
   "cell_type": "markdown",
   "metadata": {},
   "source": [
    "Using `LinearSVC` from sklearn since it's better optimized for the linear case!  See [the documentation](https://scikit-learn.org/stable/modules/generated/sklearn.svm.LinearSVC.html) and [Campuswire post #656](https://campuswire.com/c/GD09972CF/feed) for more explanation."
   ]
  },
  {
   "cell_type": "code",
   "execution_count": 9,
   "metadata": {},
   "outputs": [],
   "source": [
    "from sklearn.svm import LinearSVC\n",
    "\n",
    "# Starting with a default value of C.  We'll play with this later.\n",
    "clf = LinearSVC(C=1.0)"
   ]
  },
  {
   "cell_type": "code",
   "execution_count": 10,
   "metadata": {},
   "outputs": [
    {
     "name": "stdout",
     "output_type": "stream",
     "text": [
      "Training error:    0.15%\n",
      "Validation error: 20.76%\n"
     ]
    }
   ],
   "source": [
    "clf.fit(X_train, y_train)\n",
    "\n",
    "print(f\"Training error:   {1 - clf.score(X_train, y_train):>6.2%}\")\n",
    "print(f\"Validation error: {1 - clf.score(X_valid, y_valid):>6.2%}\")"
   ]
  },
  {
   "cell_type": "markdown",
   "metadata": {},
   "source": [
    "Now we use the validation set to tune our hyperparameter $C$."
   ]
  },
  {
   "cell_type": "code",
   "execution_count": 11,
   "metadata": {},
   "outputs": [
    {
     "name": "stdout",
     "output_type": "stream",
     "text": [
      "CPU times: user 9.75 s, sys: 16.7 s, total: 26.5 s\n",
      "Wall time: 16.9 s\n"
     ]
    }
   ],
   "source": [
    "%%time\n",
    "\n",
    "# How'd I choose these?  I ran from 1e-3 to 1e3 as seen in lecture, but\n",
    "# I noticed a sharp spike near my low-end, so I shifted this and ran\n",
    "# from 1e-5 to 1e0.  This gave me a nice range to look at, so I boosted\n",
    "# the granularity.\n",
    "C_values = 10**np.arange(-3.0, 3.0)\n",
    "C_values = 10**np.arange(-5.0, 0.0)\n",
    "C_values = 10**np.arange(-5.0, 0.0, 0.5)\n",
    "\n",
    "train_scores = []\n",
    "valid_scores = []\n",
    "\n",
    "for C in C_values:\n",
    "    \n",
    "    clf = LinearSVC(C=C)\n",
    "    clf.fit(X_train, y_train)\n",
    "    \n",
    "    train_scores.append(1 - clf.score(X_train, y_train))\n",
    "    valid_scores.append(1 - clf.score(X_valid, y_valid))\n"
   ]
  },
  {
   "cell_type": "code",
   "execution_count": 12,
   "metadata": {},
   "outputs": [
    {
     "data": {
      "text/html": [
       "<div>\n",
       "<style scoped>\n",
       "    .dataframe tbody tr th:only-of-type {\n",
       "        vertical-align: middle;\n",
       "    }\n",
       "\n",
       "    .dataframe tbody tr th {\n",
       "        vertical-align: top;\n",
       "    }\n",
       "\n",
       "    .dataframe thead th {\n",
       "        text-align: right;\n",
       "    }\n",
       "</style>\n",
       "<table border=\"1\" class=\"dataframe\">\n",
       "  <thead>\n",
       "    <tr style=\"text-align: right;\">\n",
       "      <th></th>\n",
       "      <th>C</th>\n",
       "      <th>Train Error</th>\n",
       "      <th>Validation Error</th>\n",
       "    </tr>\n",
       "  </thead>\n",
       "  <tbody>\n",
       "    <tr>\n",
       "      <th>0</th>\n",
       "      <td>0.000010</td>\n",
       "      <td>0.381733</td>\n",
       "      <td>0.4028</td>\n",
       "    </tr>\n",
       "    <tr>\n",
       "      <th>1</th>\n",
       "      <td>0.000032</td>\n",
       "      <td>0.320667</td>\n",
       "      <td>0.3388</td>\n",
       "    </tr>\n",
       "    <tr>\n",
       "      <th>2</th>\n",
       "      <td>0.000100</td>\n",
       "      <td>0.235067</td>\n",
       "      <td>0.2588</td>\n",
       "    </tr>\n",
       "    <tr>\n",
       "      <th>3</th>\n",
       "      <td>0.000316</td>\n",
       "      <td>0.183333</td>\n",
       "      <td>0.2112</td>\n",
       "    </tr>\n",
       "    <tr>\n",
       "      <th>4</th>\n",
       "      <td>0.001000</td>\n",
       "      <td>0.144133</td>\n",
       "      <td>0.1776</td>\n",
       "    </tr>\n",
       "    <tr>\n",
       "      <th>5</th>\n",
       "      <td>0.003162</td>\n",
       "      <td>0.102533</td>\n",
       "      <td>0.1632</td>\n",
       "    </tr>\n",
       "    <tr>\n",
       "      <th>6</th>\n",
       "      <td>0.010000</td>\n",
       "      <td>0.062933</td>\n",
       "      <td>0.1600</td>\n",
       "    </tr>\n",
       "    <tr>\n",
       "      <th>7</th>\n",
       "      <td>0.031623</td>\n",
       "      <td>0.031467</td>\n",
       "      <td>0.1684</td>\n",
       "    </tr>\n",
       "    <tr>\n",
       "      <th>8</th>\n",
       "      <td>0.100000</td>\n",
       "      <td>0.012267</td>\n",
       "      <td>0.1800</td>\n",
       "    </tr>\n",
       "    <tr>\n",
       "      <th>9</th>\n",
       "      <td>0.316228</td>\n",
       "      <td>0.004267</td>\n",
       "      <td>0.1960</td>\n",
       "    </tr>\n",
       "  </tbody>\n",
       "</table>\n",
       "</div>"
      ],
      "text/plain": [
       "          C  Train Error  Validation Error\n",
       "0  0.000010     0.381733            0.4028\n",
       "1  0.000032     0.320667            0.3388\n",
       "2  0.000100     0.235067            0.2588\n",
       "3  0.000316     0.183333            0.2112\n",
       "4  0.001000     0.144133            0.1776\n",
       "5  0.003162     0.102533            0.1632\n",
       "6  0.010000     0.062933            0.1600\n",
       "7  0.031623     0.031467            0.1684\n",
       "8  0.100000     0.012267            0.1800\n",
       "9  0.316228     0.004267            0.1960"
      ]
     },
     "execution_count": 12,
     "metadata": {},
     "output_type": "execute_result"
    }
   ],
   "source": [
    "# This should look similar to lecture\n",
    "pd.DataFrame({\"C\": C_values, \"Train Error\": train_scores, \"Validation Error\": valid_scores})"
   ]
  },
  {
   "cell_type": "code",
   "execution_count": 13,
   "metadata": {},
   "outputs": [
    {
     "data": {
      "image/png": "[encoded data removed]",
      "text/plain": [
       "<Figure size 432x288 with 1 Axes>"
      ]
     },
     "metadata": {
      "needs_background": "light"
     },
     "output_type": "display_data"
    }
   ],
   "source": [
    "plt.plot(C_values, valid_scores)\n",
    "plt.plot(C_values, train_scores)\n",
    "plt.xscale(\"log\")"
   ]
  },
  {
   "cell_type": "code",
   "execution_count": 14,
   "metadata": {},
   "outputs": [
    {
     "name": "stdout",
     "output_type": "stream",
     "text": [
      "Best C on validation set is roughly C=0.01 with training error of 6.29% and validation error of 16.00%\n"
     ]
    }
   ],
   "source": [
    "best_val_idx = np.argmin(valid_scores)\n",
    "best_val_valid   = valid_scores[best_val_idx]\n",
    "best_val_train   = train_scores[best_val_idx]\n",
    "best_val_C       = C_values[best_val_idx]\n",
    "\n",
    "print(f\"Best C on validation set is roughly C={best_val_C} with \"\n",
    "      f\"training error of {best_val_train:.2%} and \"\n",
    "      f\"validation error of {best_val_valid:.2%}\")"
   ]
  },
  {
   "cell_type": "markdown",
   "metadata": {},
   "source": [
    "After that value of $C$ our validation error starts climbing again.  Notice what's happening with our training error though..."
   ]
  },
  {
   "cell_type": "markdown",
   "metadata": {},
   "source": [
    "b) Is the data in `train.csv` linearly separable?  How do you know?"
   ]
  },
  {
   "cell_type": "markdown",
   "metadata": {},
   "source": [
    "There's a chance that with such high dimensionality, our data is linearly separable.  Let's uncap our dictionary and leave in stop words so that we're not reducing the dimensionality.\n",
    "\n",
    "If we take out all the slack from an SVM, we can check for linear separability.\n",
    "\n",
    "While it's enough to show that our data isn't linearly separable by showing that a subset isn't linearly separable, we're going to need to check the entire dataset if we want to prove that the dataset *is* linearly separable."
   ]
  },
  {
   "cell_type": "code",
   "execution_count": 15,
   "metadata": {},
   "outputs": [
    {
     "name": "stdout",
     "output_type": "stream",
     "text": [
      "Converged ==> Linearly Separable!\n"
     ]
    }
   ],
   "source": [
    "vectorizer_all = CountVectorizer(stop_words=None, max_features=None)\n",
    "\n",
    "X_all = vectorizer_all.fit_transform(data.Review)\n",
    "y_all = data.Positive\n",
    "\n",
    "\n",
    "# To avoid any slack, we must place a huge penalty on it!\n",
    "C_all = 10e9\n",
    "\n",
    "# To see if we eventually converge, let's increase our cap on iterations\n",
    "clf_all = LinearSVC(C=C_all, max_iter=10e6)\n",
    "clf_all.fit(X_all, y_all)\n",
    "\n",
    "end_score = 1 - clf_all.score(X_all, y_all)\n",
    "\n",
    "if end_score == 0:\n",
    "    print(\"Converged ==> Linearly Separable!\")\n",
    "else:\n",
    "    print(\"Didn't converge ==> Not linearly separable.\")"
   ]
  },
  {
   "cell_type": "markdown",
   "metadata": {},
   "source": [
    "c) Give an example of:\n",
    "  - A sentence that you think is positive that your predictor got right.\n",
    "  - A sentence that you think is negative that your predictor got right.\n",
    "  - A sentence that you think is positive that your predictor got wrong."
   ]
  },
  {
   "cell_type": "code",
   "execution_count": 16,
   "metadata": {},
   "outputs": [
    {
     "data": {
      "text/plain": [
       "LinearSVC(C=0.01, class_weight=None, dual=True, fit_intercept=True,\n",
       "          intercept_scaling=1, loss='squared_hinge', max_iter=1000,\n",
       "          multi_class='ovr', penalty='l2', random_state=None, tol=0.0001,\n",
       "          verbose=0)"
      ]
     },
     "execution_count": 16,
     "metadata": {},
     "output_type": "execute_result"
    }
   ],
   "source": [
    "# Let's reinstantiate our best validation-set classifier and experiment!\n",
    "clf = LinearSVC(C=best_val_C)\n",
    "\n",
    "clf.fit(X_train, y_train)"
   ]
  },
  {
   "cell_type": "code",
   "execution_count": 17,
   "metadata": {},
   "outputs": [],
   "source": [
    "def predict(sentence):\n",
    "    \n",
    "    X_sentence = vectorizer.transform([sentence])\n",
    "    \n",
    "    return clf.predict(X_sentence)"
   ]
  },
  {
   "cell_type": "code",
   "execution_count": 18,
   "metadata": {},
   "outputs": [
    {
     "data": {
      "text/plain": [
       "array([ True])"
      ]
     },
     "execution_count": 18,
     "metadata": {},
     "output_type": "execute_result"
    }
   ],
   "source": [
    "predict(\"Excellent service, as always.\")\n",
    "# Expect Positive"
   ]
  },
  {
   "cell_type": "code",
   "execution_count": 19,
   "metadata": {},
   "outputs": [
    {
     "data": {
      "text/plain": [
       "array([False])"
      ]
     },
     "execution_count": 19,
     "metadata": {},
     "output_type": "execute_result"
    }
   ],
   "source": [
    "predict(\"That was terrible, made my stomach hurt.\")\n",
    "# Expect Negative"
   ]
  },
  {
   "cell_type": "code",
   "execution_count": 20,
   "metadata": {},
   "outputs": [
    {
     "data": {
      "text/plain": [
       "array([['canceled', 'primanti', 'xl', 'workouts', 'patio', 'breads',\n",
       "        'pillow', 'struggling', 'waived', 'jackets']], dtype='<U22')"
      ]
     },
     "execution_count": 20,
     "metadata": {},
     "output_type": "execute_result"
    }
   ],
   "source": [
    "most_negative_idx = clf.coef_.argsort()[:,:10]\n",
    "most_negative_words = np.array(list(vectorizer.vocabulary_))[most_negative_idx]\n",
    "most_negative_words"
   ]
  },
  {
   "cell_type": "markdown",
   "metadata": {},
   "source": [
    "Can we abuse the \"most negative\" words?"
   ]
  },
  {
   "cell_type": "code",
   "execution_count": 27,
   "metadata": {},
   "outputs": [
    {
     "data": {
      "text/plain": [
       "array([False])"
      ]
     },
     "execution_count": 27,
     "metadata": {},
     "output_type": "execute_result"
    }
   ],
   "source": [
    "predict(\"They gave us a free pillow!\")"
   ]
  },
  {
   "cell_type": "code",
   "execution_count": null,
   "metadata": {},
   "outputs": [],
   "source": []
  }
 ],
 "metadata": {
  "kernelspec": {
   "display_name": "Python 3",
   "language": "python",
   "name": "python3"
  },
  "language_info": {
   "codemirror_mode": {
    "name": "ipython",
    "version": 3
   },
   "file_extension": ".py",
   "mimetype": "text/x-python",
   "name": "python",
   "nbconvert_exporter": "python",
   "pygments_lexer": "ipython3",
   "version": "3.6.7"
  }
 },
 "nbformat": 4,
 "nbformat_minor": 2
}
