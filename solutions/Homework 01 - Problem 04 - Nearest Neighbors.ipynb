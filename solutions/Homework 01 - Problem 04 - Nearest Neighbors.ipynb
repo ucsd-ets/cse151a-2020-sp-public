{
 "cells": [
  {
   "cell_type": "markdown",
   "metadata": {},
   "source": [
    "# Solution of Homework 01 - Plus Problem 01\n",
    "\n",
    "In this notebook, we'll implement the solution to Homework 01, Plus Problem 01. You could have written your response in whatever language you like, but I'll be using Python."
   ]
  },
  {
   "cell_type": "markdown",
   "metadata": {},
   "source": [
    "First we need to get the data. For that, we'll use `pandas` and the handy `.read_csv()` function. It can even accept a URL:"
   ]
  },
  {
   "cell_type": "code",
   "execution_count": 1,
   "metadata": {},
   "outputs": [],
   "source": [
    "import pandas as pd"
   ]
  },
  {
   "cell_type": "code",
   "execution_count": 2,
   "metadata": {},
   "outputs": [
    {
     "data": {
      "text/html": [
       "<div>\n",
       "<style scoped>\n",
       "    .dataframe tbody tr th:only-of-type {\n",
       "        vertical-align: middle;\n",
       "    }\n",
       "\n",
       "    .dataframe tbody tr th {\n",
       "        vertical-align: top;\n",
       "    }\n",
       "\n",
       "    .dataframe thead th {\n",
       "        text-align: right;\n",
       "    }\n",
       "</style>\n",
       "<table border=\"1\" class=\"dataframe\">\n",
       "  <thead>\n",
       "    <tr style=\"text-align: right;\">\n",
       "      <th></th>\n",
       "      <th>Name</th>\n",
       "      <th>Position</th>\n",
       "      <th>Height</th>\n",
       "      <th>Weight</th>\n",
       "    </tr>\n",
       "  </thead>\n",
       "  <tbody>\n",
       "    <tr>\n",
       "      <th>0</th>\n",
       "      <td>Anthony Tolliver</td>\n",
       "      <td>Forward</td>\n",
       "      <td>80</td>\n",
       "      <td>240</td>\n",
       "    </tr>\n",
       "    <tr>\n",
       "      <th>1</th>\n",
       "      <td>Arnett Moultrie</td>\n",
       "      <td>Forward</td>\n",
       "      <td>83</td>\n",
       "      <td>230</td>\n",
       "    </tr>\n",
       "    <tr>\n",
       "      <th>2</th>\n",
       "      <td>Cory Joseph</td>\n",
       "      <td>Guard</td>\n",
       "      <td>75</td>\n",
       "      <td>185</td>\n",
       "    </tr>\n",
       "    <tr>\n",
       "      <th>3</th>\n",
       "      <td>Chauncey Billups</td>\n",
       "      <td>Guard</td>\n",
       "      <td>75</td>\n",
       "      <td>202</td>\n",
       "    </tr>\n",
       "    <tr>\n",
       "      <th>4</th>\n",
       "      <td>Russell Westbrook</td>\n",
       "      <td>Guard</td>\n",
       "      <td>75</td>\n",
       "      <td>187</td>\n",
       "    </tr>\n",
       "    <tr>\n",
       "      <th>...</th>\n",
       "      <td>...</td>\n",
       "      <td>...</td>\n",
       "      <td>...</td>\n",
       "      <td>...</td>\n",
       "    </tr>\n",
       "    <tr>\n",
       "      <th>295</th>\n",
       "      <td>Deron Williams</td>\n",
       "      <td>Guard</td>\n",
       "      <td>75</td>\n",
       "      <td>209</td>\n",
       "    </tr>\n",
       "    <tr>\n",
       "      <th>296</th>\n",
       "      <td>Jae Crowder</td>\n",
       "      <td>Forward</td>\n",
       "      <td>79</td>\n",
       "      <td>240</td>\n",
       "    </tr>\n",
       "    <tr>\n",
       "      <th>297</th>\n",
       "      <td>Chuck Hayes</td>\n",
       "      <td>Forward</td>\n",
       "      <td>78</td>\n",
       "      <td>238</td>\n",
       "    </tr>\n",
       "    <tr>\n",
       "      <th>298</th>\n",
       "      <td>Stephen Curry</td>\n",
       "      <td>Guard</td>\n",
       "      <td>75</td>\n",
       "      <td>185</td>\n",
       "    </tr>\n",
       "    <tr>\n",
       "      <th>299</th>\n",
       "      <td>Greg Smith</td>\n",
       "      <td>Forward</td>\n",
       "      <td>82</td>\n",
       "      <td>250</td>\n",
       "    </tr>\n",
       "  </tbody>\n",
       "</table>\n",
       "<p>300 rows × 4 columns</p>\n",
       "</div>"
      ],
      "text/plain": [
       "                  Name Position  Height  Weight\n",
       "0     Anthony Tolliver  Forward      80     240\n",
       "1      Arnett Moultrie  Forward      83     230\n",
       "2          Cory Joseph    Guard      75     185\n",
       "3     Chauncey Billups    Guard      75     202\n",
       "4    Russell Westbrook    Guard      75     187\n",
       "..                 ...      ...     ...     ...\n",
       "295     Deron Williams    Guard      75     209\n",
       "296        Jae Crowder  Forward      79     240\n",
       "297        Chuck Hayes  Forward      78     238\n",
       "298      Stephen Curry    Guard      75     185\n",
       "299         Greg Smith  Forward      82     250\n",
       "\n",
       "[300 rows x 4 columns]"
      ]
     },
     "execution_count": 2,
     "metadata": {},
     "output_type": "execute_result"
    }
   ],
   "source": [
    "train = pd.read_csv('http://cse151a.com/data/nba/train.csv')\n",
    "train"
   ]
  },
  {
   "cell_type": "code",
   "execution_count": 3,
   "metadata": {},
   "outputs": [],
   "source": [
    "test = pd.read_csv('http://cse151a.com/data/nba/test.csv')"
   ]
  },
  {
   "cell_type": "markdown",
   "metadata": {},
   "source": [
    "## Part A) Without standardization"
   ]
  },
  {
   "cell_type": "markdown",
   "metadata": {},
   "source": [
    "In the first part, we're asked to find the test error when we apply the 1-nearest neighbor rule without standardizing the data.\n",
    "\n",
    "To make things easier, let's extract the data and the labels from `train`:"
   ]
  },
  {
   "cell_type": "code",
   "execution_count": 4,
   "metadata": {},
   "outputs": [
    {
     "data": {
      "text/html": [
       "<div>\n",
       "<style scoped>\n",
       "    .dataframe tbody tr th:only-of-type {\n",
       "        vertical-align: middle;\n",
       "    }\n",
       "\n",
       "    .dataframe tbody tr th {\n",
       "        vertical-align: top;\n",
       "    }\n",
       "\n",
       "    .dataframe thead th {\n",
       "        text-align: right;\n",
       "    }\n",
       "</style>\n",
       "<table border=\"1\" class=\"dataframe\">\n",
       "  <thead>\n",
       "    <tr style=\"text-align: right;\">\n",
       "      <th></th>\n",
       "      <th>Height</th>\n",
       "      <th>Weight</th>\n",
       "    </tr>\n",
       "  </thead>\n",
       "  <tbody>\n",
       "    <tr>\n",
       "      <th>0</th>\n",
       "      <td>80</td>\n",
       "      <td>240</td>\n",
       "    </tr>\n",
       "    <tr>\n",
       "      <th>1</th>\n",
       "      <td>83</td>\n",
       "      <td>230</td>\n",
       "    </tr>\n",
       "    <tr>\n",
       "      <th>2</th>\n",
       "      <td>75</td>\n",
       "      <td>185</td>\n",
       "    </tr>\n",
       "    <tr>\n",
       "      <th>3</th>\n",
       "      <td>75</td>\n",
       "      <td>202</td>\n",
       "    </tr>\n",
       "    <tr>\n",
       "      <th>4</th>\n",
       "      <td>75</td>\n",
       "      <td>187</td>\n",
       "    </tr>\n",
       "    <tr>\n",
       "      <th>...</th>\n",
       "      <td>...</td>\n",
       "      <td>...</td>\n",
       "    </tr>\n",
       "    <tr>\n",
       "      <th>295</th>\n",
       "      <td>75</td>\n",
       "      <td>209</td>\n",
       "    </tr>\n",
       "    <tr>\n",
       "      <th>296</th>\n",
       "      <td>79</td>\n",
       "      <td>240</td>\n",
       "    </tr>\n",
       "    <tr>\n",
       "      <th>297</th>\n",
       "      <td>78</td>\n",
       "      <td>238</td>\n",
       "    </tr>\n",
       "    <tr>\n",
       "      <th>298</th>\n",
       "      <td>75</td>\n",
       "      <td>185</td>\n",
       "    </tr>\n",
       "    <tr>\n",
       "      <th>299</th>\n",
       "      <td>82</td>\n",
       "      <td>250</td>\n",
       "    </tr>\n",
       "  </tbody>\n",
       "</table>\n",
       "<p>300 rows × 2 columns</p>\n",
       "</div>"
      ],
      "text/plain": [
       "     Height  Weight\n",
       "0        80     240\n",
       "1        83     230\n",
       "2        75     185\n",
       "3        75     202\n",
       "4        75     187\n",
       "..      ...     ...\n",
       "295      75     209\n",
       "296      79     240\n",
       "297      78     238\n",
       "298      75     185\n",
       "299      82     250\n",
       "\n",
       "[300 rows x 2 columns]"
      ]
     },
     "execution_count": 4,
     "metadata": {},
     "output_type": "execute_result"
    }
   ],
   "source": [
    "train_X = train[['Height', 'Weight']]\n",
    "train_X"
   ]
  },
  {
   "cell_type": "code",
   "execution_count": 5,
   "metadata": {},
   "outputs": [
    {
     "data": {
      "text/plain": [
       "0      Forward\n",
       "1      Forward\n",
       "2        Guard\n",
       "3        Guard\n",
       "4        Guard\n",
       "        ...   \n",
       "295      Guard\n",
       "296    Forward\n",
       "297    Forward\n",
       "298      Guard\n",
       "299    Forward\n",
       "Name: Position, Length: 300, dtype: object"
      ]
     },
     "execution_count": 5,
     "metadata": {},
     "output_type": "execute_result"
    }
   ],
   "source": [
    "train_y = train['Position']\n",
    "train_y"
   ]
  },
  {
   "cell_type": "markdown",
   "metadata": {},
   "source": [
    "And we'll do the same for the test set:"
   ]
  },
  {
   "cell_type": "code",
   "execution_count": 6,
   "metadata": {},
   "outputs": [],
   "source": [
    "test_X = test[['Height', 'Weight']]\n",
    "test_y = test['Position']"
   ]
  },
  {
   "cell_type": "markdown",
   "metadata": {},
   "source": [
    "Our goal is to write a function which takes in a point (and a training set) and returns the label of the point's nearest neighbor in the training set. It isn't too hard to write some code to compute distances, but lets use `scipy.spatial.distance_matrix`; it takes in an $m \\times k$ matrix and an $n \\times k$ matrix and returns an $m \\times n$ matrix whose $(i,j)$ entry is the distance between row $i$ of the first matrix and row $j$ of the second."
   ]
  },
  {
   "cell_type": "code",
   "execution_count": 7,
   "metadata": {},
   "outputs": [],
   "source": [
    "import scipy.spatial"
   ]
  },
  {
   "cell_type": "code",
   "execution_count": 8,
   "metadata": {},
   "outputs": [
    {
     "data": {
      "text/plain": [
       "array([[60.40695324, 50.99019514,  5.38516481, ..., 58.21511831,\n",
       "         5.38516481, 70.57619995],\n",
       "       [ 2.        , 10.04987562, 55.4436651 , ...,  4.47213595,\n",
       "        55.4436651 , 10.        ],\n",
       "       [32.24903099, 23.08679276, 23.02172887, ..., 30.06659276,\n",
       "        23.02172887, 42.42640687],\n",
       "       ...,\n",
       "       [20.02498439, 30.2654919 , 75.10659092, ..., 22.02271555,\n",
       "        75.10659092, 10.44030651],\n",
       "       [ 5.        ,  5.83095189, 50.24937811, ...,  3.60555128,\n",
       "        50.24937811, 15.13274595],\n",
       "       [44.28317965, 34.92849839, 11.        , ..., 42.10700654,\n",
       "        11.        , 54.45181356]])"
      ]
     },
     "execution_count": 8,
     "metadata": {},
     "output_type": "execute_result"
    }
   ],
   "source": [
    "distances = scipy.spatial.distance_matrix(test_X, train_X)\n",
    "distances"
   ]
  },
  {
   "cell_type": "code",
   "execution_count": 9,
   "metadata": {},
   "outputs": [
    {
     "data": {
      "text/plain": [
       "(113, 300)"
      ]
     },
     "execution_count": 9,
     "metadata": {},
     "output_type": "execute_result"
    }
   ],
   "source": [
    "distances.shape"
   ]
  },
  {
   "cell_type": "markdown",
   "metadata": {},
   "source": [
    "The $i$th row of the above matrix contains the distance from the $i$th test point to all of the training points. We want to find the closest training point. We can do this with `np.argmin`, which returns the *index* of the smallest thing in a list."
   ]
  },
  {
   "cell_type": "code",
   "execution_count": 10,
   "metadata": {},
   "outputs": [],
   "source": [
    "import numpy as np"
   ]
  },
  {
   "cell_type": "code",
   "execution_count": 11,
   "metadata": {},
   "outputs": [
    {
     "data": {
      "text/plain": [
       "array([ 80,   8,  11, 232,   0, 136, 248, 292,  77,  50, 228,  19, 221,\n",
       "        83,  31,  80, 203,  83, 270, 228, 183,  56,  40,  17,  14,  49,\n",
       "        22,  42, 103, 108, 153,  80, 132, 243, 141,  40,  80, 139, 292,\n",
       "        46, 169, 227,  47, 281,   2,  73,  40, 214,  21, 165,  80, 243,\n",
       "        20,  14, 221,  38, 159, 196,  62,  81,  80,  64, 103,   7,  21,\n",
       "        91, 209, 103, 158,  20,  96,  45,  32,  50,  10, 131,  14, 175,\n",
       "        56, 197,  20, 106,   5, 233, 138,   8,  40,  82,  78,  40, 131,\n",
       "       243,  82,  64, 131,  51, 127,  50,  78, 181, 132,   9,  92, 229,\n",
       "        37,  17,  32, 169,  56, 103, 135,  19, 205])"
      ]
     },
     "execution_count": 11,
     "metadata": {},
     "output_type": "execute_result"
    }
   ],
   "source": [
    "nearest_ix = np.argmin(distances, axis=1)\n",
    "nearest_ix"
   ]
  },
  {
   "cell_type": "markdown",
   "metadata": {},
   "source": [
    "These are the indices of the smallest element of each row. That is, the smallest element in the first row occurs in the 80th column; the smallest element in the second row is in the 8th column, and so on. This means that the closest training point to the first test point is training point #80. And the training point closest to the second test point is training point #8.\n",
    "\n",
    "We can recover the labels of these training points by indexing into `train_y` with `nearest_ix`:"
   ]
  },
  {
   "cell_type": "code",
   "execution_count": 12,
   "metadata": {},
   "outputs": [
    {
     "data": {
      "text/plain": [
       "80       Guard\n",
       "8      Forward\n",
       "11       Guard\n",
       "232      Guard\n",
       "0      Forward\n",
       "        ...   \n",
       "56     Forward\n",
       "103    Forward\n",
       "135    Forward\n",
       "19       Guard\n",
       "205      Guard\n",
       "Name: Position, Length: 113, dtype: object"
      ]
     },
     "execution_count": 12,
     "metadata": {},
     "output_type": "execute_result"
    }
   ],
   "source": [
    "predictions = train_y[nearest_ix]\n",
    "predictions"
   ]
  },
  {
   "cell_type": "markdown",
   "metadata": {},
   "source": [
    "Let's see where it worked:"
   ]
  },
  {
   "cell_type": "code",
   "execution_count": 13,
   "metadata": {},
   "outputs": [
    {
     "data": {
      "text/plain": [
       "80       Guard\n",
       "8      Forward\n",
       "11       Guard\n",
       "232      Guard\n",
       "0      Forward\n",
       "        ...   \n",
       "56     Forward\n",
       "103    Forward\n",
       "135    Forward\n",
       "19       Guard\n",
       "205      Guard\n",
       "Name: Position, Length: 113, dtype: object"
      ]
     },
     "execution_count": 13,
     "metadata": {},
     "output_type": "execute_result"
    }
   ],
   "source": [
    "predictions"
   ]
  },
  {
   "cell_type": "code",
   "execution_count": 14,
   "metadata": {},
   "outputs": [
    {
     "data": {
      "text/plain": [
       "array([ True,  True,  True,  True,  True,  True,  True,  True, False,\n",
       "        True,  True, False,  True,  True,  True,  True,  True,  True,\n",
       "        True,  True,  True,  True, False,  True,  True,  True, False,\n",
       "        True,  True,  True, False,  True, False,  True,  True, False,\n",
       "        True,  True,  True, False,  True,  True,  True,  True,  True,\n",
       "        True, False,  True,  True,  True,  True,  True,  True,  True,\n",
       "        True,  True,  True,  True,  True, False,  True,  True,  True,\n",
       "        True,  True,  True,  True,  True,  True,  True,  True,  True,\n",
       "        True,  True,  True,  True,  True,  True,  True,  True,  True,\n",
       "       False,  True,  True,  True,  True, False, False,  True, False,\n",
       "        True,  True, False,  True,  True,  True,  True,  True,  True,\n",
       "        True, False,  True,  True,  True,  True,  True,  True,  True,\n",
       "       False,  True,  True, False,  True])"
      ]
     },
     "execution_count": 14,
     "metadata": {},
     "output_type": "execute_result"
    }
   ],
   "source": [
    "predictions.values == test_y.values"
   ]
  },
  {
   "cell_type": "markdown",
   "metadata": {},
   "source": [
    "What's the test accuracy?"
   ]
  },
  {
   "cell_type": "code",
   "execution_count": 15,
   "metadata": {},
   "outputs": [
    {
     "data": {
      "text/plain": [
       "0.8407079646017699"
      ]
     },
     "execution_count": 15,
     "metadata": {},
     "output_type": "execute_result"
    }
   ],
   "source": [
    "(predictions.values == test_y.values).mean()"
   ]
  },
  {
   "cell_type": "markdown",
   "metadata": {},
   "source": [
    "### Checking with `sklearn`"
   ]
  },
  {
   "cell_type": "markdown",
   "metadata": {},
   "source": [
    "We can check this answer with `sklearn`, a python package containing machine learning algorithms."
   ]
  },
  {
   "cell_type": "code",
   "execution_count": 16,
   "metadata": {},
   "outputs": [
    {
     "data": {
      "text/plain": [
       "0.8938053097345132"
      ]
     },
     "execution_count": 16,
     "metadata": {},
     "output_type": "execute_result"
    }
   ],
   "source": [
    "import sklearn.neighbors\n",
    "\n",
    "knn = sklearn.neighbors.KNeighborsClassifier(n_neighbors=1)\n",
    "knn.fit(train_X, train_y)\n",
    "knn.score(test_X, test_y)"
   ]
  },
  {
   "cell_type": "markdown",
   "metadata": {},
   "source": [
    "It looks like `sklearn` got different results. Is our code wrong?\n",
    "\n",
    "No, not necessarily. The issue is that since the heights and weights are rounded to the nearest whole number, it is often the case that there are *multiple* nearest neighbors. And if these nearest neighbors have different labels, it is essentially arbitrary which label our classifier picks (a natural extension in the case of \"ties\" like this is to have the nearest neighbors vote, but we have not implemented this). The `sklearn` implementation might break ties differently than our implementation, thus the difference.\n",
    "\n",
    "We can verify that the nearest neighbors aren't unique by sorting each row of the distance matrix from smallest to largest:"
   ]
  },
  {
   "cell_type": "code",
   "execution_count": 17,
   "metadata": {},
   "outputs": [
    {
     "data": {
      "text/plain": [
       "array([[  1.        ,   1.        ,   1.        , ...,  86.37129153,\n",
       "         90.19977827, 109.29318368],\n",
       "       [  0.        ,   0.        ,   0.        , ...,  79.63039621,\n",
       "         80.62257748,  83.72574276],\n",
       "       [  1.        ,   1.        ,   1.41421356, ...,  58.21511831,\n",
       "         62.07253821,  81.15417426],\n",
       "       ...,\n",
       "       [  0.        ,   1.        ,   2.        , ...,  99.24716621,\n",
       "        100.24470061, 103.31021247],\n",
       "       [  0.        ,   0.        ,   1.        , ...,  74.43117626,\n",
       "         75.42545989,  78.51751397],\n",
       "       [  1.        ,   1.        ,   1.        , ...,  70.25667228,\n",
       "         74.10802925,  93.1933474 ]])"
      ]
     },
     "execution_count": 17,
     "metadata": {},
     "output_type": "execute_result"
    }
   ],
   "source": [
    "distances.sort(axis=1)\n",
    "distances"
   ]
  },
  {
   "cell_type": "markdown",
   "metadata": {},
   "source": [
    "See how the first test point has (at least) three nearest neighbors, all within distance one?\n",
    "\n",
    "If you're still skeptical, try going back and adding some small random noise to the training set so as to break any ties. You'll find that `sklearn` and our code give *exactly* the same predictions."
   ]
  },
  {
   "cell_type": "markdown",
   "metadata": {},
   "source": [
    "## With standardization"
   ]
  },
  {
   "cell_type": "markdown",
   "metadata": {},
   "source": [
    "Now let's try standardizing each feature before applying the nearest neighbor classification rule. The procedure is as follows: compute the mean and standard deviation of each feature (i.e., each column of the training data matrix, `train_X`). Subtract each's column's mean from each number in that column, and divide each by the column's standard deviation. Do this for both the train and test set; when working with the test set, use the statistics (mean and STD) from the train set."
   ]
  },
  {
   "cell_type": "code",
   "execution_count": 18,
   "metadata": {},
   "outputs": [
    {
     "data": {
      "text/plain": [
       "Height     78.113333\n",
       "Weight    213.663333\n",
       "dtype: float64"
      ]
     },
     "execution_count": 18,
     "metadata": {},
     "output_type": "execute_result"
    }
   ],
   "source": [
    "mu = train_X.mean(axis=0)\n",
    "mu"
   ]
  },
  {
   "cell_type": "code",
   "execution_count": 19,
   "metadata": {},
   "outputs": [
    {
     "data": {
      "text/plain": [
       "Height     3.204380\n",
       "Weight    24.178613\n",
       "dtype: float64"
      ]
     },
     "execution_count": 19,
     "metadata": {},
     "output_type": "execute_result"
    }
   ],
   "source": [
    "sigma = train_X.std(axis=0)\n",
    "sigma"
   ]
  },
  {
   "cell_type": "markdown",
   "metadata": {},
   "source": [
    "I'll call the result `train_Z`, since the variables are \"z-scored\"."
   ]
  },
  {
   "cell_type": "code",
   "execution_count": 20,
   "metadata": {},
   "outputs": [
    {
     "data": {
      "text/html": [
       "<div>\n",
       "<style scoped>\n",
       "    .dataframe tbody tr th:only-of-type {\n",
       "        vertical-align: middle;\n",
       "    }\n",
       "\n",
       "    .dataframe tbody tr th {\n",
       "        vertical-align: top;\n",
       "    }\n",
       "\n",
       "    .dataframe thead th {\n",
       "        text-align: right;\n",
       "    }\n",
       "</style>\n",
       "<table border=\"1\" class=\"dataframe\">\n",
       "  <thead>\n",
       "    <tr style=\"text-align: right;\">\n",
       "      <th></th>\n",
       "      <th>Height</th>\n",
       "      <th>Weight</th>\n",
       "    </tr>\n",
       "  </thead>\n",
       "  <tbody>\n",
       "    <tr>\n",
       "      <th>0</th>\n",
       "      <td>0.588778</td>\n",
       "      <td>1.089255</td>\n",
       "    </tr>\n",
       "    <tr>\n",
       "      <th>1</th>\n",
       "      <td>1.524996</td>\n",
       "      <td>0.675666</td>\n",
       "    </tr>\n",
       "    <tr>\n",
       "      <th>2</th>\n",
       "      <td>-0.971587</td>\n",
       "      <td>-1.185483</td>\n",
       "    </tr>\n",
       "    <tr>\n",
       "      <th>3</th>\n",
       "      <td>-0.971587</td>\n",
       "      <td>-0.482382</td>\n",
       "    </tr>\n",
       "    <tr>\n",
       "      <th>4</th>\n",
       "      <td>-0.971587</td>\n",
       "      <td>-1.102765</td>\n",
       "    </tr>\n",
       "    <tr>\n",
       "      <th>...</th>\n",
       "      <td>...</td>\n",
       "      <td>...</td>\n",
       "    </tr>\n",
       "    <tr>\n",
       "      <th>295</th>\n",
       "      <td>-0.971587</td>\n",
       "      <td>-0.192870</td>\n",
       "    </tr>\n",
       "    <tr>\n",
       "      <th>296</th>\n",
       "      <td>0.276705</td>\n",
       "      <td>1.089255</td>\n",
       "    </tr>\n",
       "    <tr>\n",
       "      <th>297</th>\n",
       "      <td>-0.035368</td>\n",
       "      <td>1.006537</td>\n",
       "    </tr>\n",
       "    <tr>\n",
       "      <th>298</th>\n",
       "      <td>-0.971587</td>\n",
       "      <td>-1.185483</td>\n",
       "    </tr>\n",
       "    <tr>\n",
       "      <th>299</th>\n",
       "      <td>1.212923</td>\n",
       "      <td>1.502843</td>\n",
       "    </tr>\n",
       "  </tbody>\n",
       "</table>\n",
       "<p>300 rows × 2 columns</p>\n",
       "</div>"
      ],
      "text/plain": [
       "       Height    Weight\n",
       "0    0.588778  1.089255\n",
       "1    1.524996  0.675666\n",
       "2   -0.971587 -1.185483\n",
       "3   -0.971587 -0.482382\n",
       "4   -0.971587 -1.102765\n",
       "..        ...       ...\n",
       "295 -0.971587 -0.192870\n",
       "296  0.276705  1.089255\n",
       "297 -0.035368  1.006537\n",
       "298 -0.971587 -1.185483\n",
       "299  1.212923  1.502843\n",
       "\n",
       "[300 rows x 2 columns]"
      ]
     },
     "execution_count": 20,
     "metadata": {},
     "output_type": "execute_result"
    }
   ],
   "source": [
    "train_Z = (train_X - mu) / sigma\n",
    "train_Z"
   ]
  },
  {
   "cell_type": "code",
   "execution_count": 21,
   "metadata": {},
   "outputs": [],
   "source": [
    "test_Z = (test_X - mu) / sigma"
   ]
  },
  {
   "cell_type": "markdown",
   "metadata": {},
   "source": [
    "Now we run the 1nn classifier as we did above:"
   ]
  },
  {
   "cell_type": "code",
   "execution_count": 22,
   "metadata": {},
   "outputs": [
    {
     "data": {
      "text/plain": [
       "array([[3.30606795, 3.74370641, 0.65751185, ..., 2.86165101, 0.65751185,\n",
       "        4.03364242],\n",
       "       [0.62414577, 0.51811683, 3.15380972, ..., 1.25102916, 3.15380972,\n",
       "        0.41358865],\n",
       "       [1.81929678, 2.36643058, 1.00113608, ..., 1.38890535, 1.00113608,\n",
       "        2.55410291],\n",
       "       ...,\n",
       "       [0.8840881 , 1.76003747, 3.34366679, ..., 0.96192435, 3.34366679,\n",
       "        1.02350424],\n",
       "       [0.20679432, 0.9587853 , 2.59058417, ..., 0.63635913, 2.59058417,\n",
       "        0.88001873],\n",
       "       [2.39715935, 2.86536723, 0.45494751, ..., 1.97330323, 0.45494751,\n",
       "        3.1241103 ]])"
      ]
     },
     "execution_count": 22,
     "metadata": {},
     "output_type": "execute_result"
    }
   ],
   "source": [
    "distances = scipy.spatial.distance_matrix(test_Z, train_Z)\n",
    "distances"
   ]
  },
  {
   "cell_type": "code",
   "execution_count": 23,
   "metadata": {},
   "outputs": [
    {
     "data": {
      "text/plain": [
       "array([ 89,   8, 223, 232,   0, 136, 248, 292,  77,  50, 228,  19, 221,\n",
       "        83, 106,  80, 100,  83, 270, 228, 183,  56,  40,  17,  14,  49,\n",
       "        30, 209, 103, 108,  62,  80, 132, 250, 141,  40,  80, 139, 292,\n",
       "        46, 169, 227,  47, 281,   2,  73,  40, 214,  21, 165,  89, 243,\n",
       "        20,  14, 221,  38, 159, 196,  62,  95,  80,  37, 103,   7,  21,\n",
       "        91, 209, 103, 158,  20,  39, 110,  32,  50, 248,  63, 270, 175,\n",
       "        56, 197,  20, 106,  60, 233, 138,   8,  40,  82, 137,  40,   6,\n",
       "       250,  82,  37,   6,  51, 212,  50,  78, 181, 132,   9, 106, 229,\n",
       "       196, 237,  32, 169,  56, 103, 135,  19, 205])"
      ]
     },
     "execution_count": 23,
     "metadata": {},
     "output_type": "execute_result"
    }
   ],
   "source": [
    "nearest_ix = np.argmin(distances, axis=1)\n",
    "nearest_ix"
   ]
  },
  {
   "cell_type": "code",
   "execution_count": 24,
   "metadata": {},
   "outputs": [],
   "source": [
    "predictions_Z = train_y[nearest_ix]"
   ]
  },
  {
   "cell_type": "code",
   "execution_count": 25,
   "metadata": {},
   "outputs": [
    {
     "data": {
      "text/plain": [
       "0.8230088495575221"
      ]
     },
     "execution_count": 25,
     "metadata": {},
     "output_type": "execute_result"
    }
   ],
   "source": [
    "(predictions_Z.values == test_y).mean()"
   ]
  },
  {
   "cell_type": "markdown",
   "metadata": {},
   "source": [
    "## Analysis"
   ]
  },
  {
   "cell_type": "markdown",
   "metadata": {},
   "source": [
    "Our test error actually *increased* after standardization. Why is this? Let's plot the errors that are made when we don't standardize."
   ]
  },
  {
   "cell_type": "code",
   "execution_count": 26,
   "metadata": {},
   "outputs": [],
   "source": [
    "import matplotlib.pyplot as plt"
   ]
  },
  {
   "cell_type": "code",
   "execution_count": 27,
   "metadata": {},
   "outputs": [
    {
     "data": {
      "text/plain": [
       "<matplotlib.collections.PathCollection at 0x7fe5b258e0a0>"
      ]
     },
     "execution_count": 27,
     "metadata": {},
     "output_type": "execute_result"
    },
    {
     "data": {
      "image/png": "[encoded data removed]",
      "text/plain": [
       "<Figure size 576x432 with 1 Axes>"
      ]
     },
     "metadata": {
      "needs_background": "light"
     },
     "output_type": "display_data"
    }
   ],
   "source": [
    "plt.figure(figsize=(8,6))\n",
    "\n",
    "plt.scatter(*train_X[train_y == 'Forward'].values.T, color='C0', marker='x')\n",
    "plt.scatter(*train_X[train_y == 'Guard'].values.T, color='C4', facecolor='None', marker='*')\n",
    "plt.scatter(*test_X[(test_y.values != predictions.values) & (test_y == 'Forward')].values.T, color='red', marker='x', alpha=.5)\n",
    "plt.scatter(*test_X[(test_y.values != predictions.values) & (test_y == 'Guard')].values.T, color='red', marker='*', alpha=.5)"
   ]
  },
  {
   "cell_type": "markdown",
   "metadata": {},
   "source": [
    "The purple stars are the guards in the training set, while the blue x's are the forwards. The red points are the misclassified test points, and their shape tells you whether the point is actually a forward or a guard. So, for instance, a red x should have been classified as a forward, but was actually classified as a guard.\n",
    "\n",
    "What we see, somewhat surprisingly, is there are only a few mistakes -- the classifier works pretty well, even without standardization. If you think about how the classifier is making its decisions, this makes some sense. Remember that the plot above is somewhat misleading, because the two axes are on two very different scales. That is, we draw a circle of radius 4, it looks very squashed:"
   ]
  },
  {
   "cell_type": "code",
   "execution_count": 28,
   "metadata": {},
   "outputs": [
    {
     "data": {
      "text/plain": [
       "<matplotlib.patches.Circle at 0x7fe5b2484d90>"
      ]
     },
     "execution_count": 28,
     "metadata": {},
     "output_type": "execute_result"
    },
    {
     "data": {
      "image/png": "[encoded data removed]",
      "text/plain": [
       "<Figure size 576x432 with 1 Axes>"
      ]
     },
     "metadata": {
      "needs_background": "light"
     },
     "output_type": "display_data"
    }
   ],
   "source": [
    "plt.figure(figsize=(8,6))\n",
    "\n",
    "\n",
    "plt.scatter(*train_X[train_y == 'Forward'].values.T, color='C0', marker='x')\n",
    "plt.scatter(*train_X[train_y == 'Guard'].values.T, color='C4', facecolor='None', marker='*')\n",
    "plt.scatter(*test_X[(test_y.values != predictions.values) & (test_y == 'Forward')].values.T, color='red', marker='x', alpha=.5)\n",
    "plt.scatter(*test_X[(test_y.values != predictions.values) & (test_y == 'Guard')].values.T, color='red', marker='*', alpha=.5)\n",
    "\n",
    "\n",
    "artist = plt.Circle((78, 238), 4, color='black', fill=None)\n",
    "plt.gca().add_artist(artist)"
   ]
  },
  {
   "cell_type": "markdown",
   "metadata": {},
   "source": [
    "You can think of finding a point's nearest neighbor as growing a circle, starting with radius zero, until it contains another point. But when the two axes have very different scales like above, the closest point is much more likely to be to the left or to the right than above or below. In this sense, the nearest neighbor search will \"prefer\" the height direction over the weight direction. Usually we don't feel that one feature should be preferred over another, but here it's OK: the heights contain enough information to make pretty good predictions."
   ]
  },
  {
   "cell_type": "markdown",
   "metadata": {},
   "source": [
    "So if standardizing the data actually results in *worse* performance on the test set, does that mean that standardization is not the right thing to do? Not necessarily. The performance difference is not huge, and many of the errors made in both cases are due to tie-breaking anyways. That is to say, the difference in performance is small compared to the noise of the predictions. And so it's probably not the worst idea to stick with standardization."
   ]
  },
  {
   "cell_type": "markdown",
   "metadata": {},
   "source": [
    "On the other hand, sometimes some features **are** more important than others, and kNN doesn't pick up on this. In this case, we actually **do** want the relative scale of the features to be used in the neighbor search. This [paper](https://papers.nips.cc/paper/2795-distance-metric-learning-for-large-margin-nearest-neighbor-classification.pdf) by Kilian Weinberger, John Blitzer and Lawrence Saul follows this intuition: it basically finds the best way of \"squashing the circle\" used in the neighbor search so that the classification performance is maximized."
   ]
  }
 ],
 "metadata": {
  "kernelspec": {
   "display_name": "Python 3",
   "language": "python",
   "name": "python3"
  },
  "language_info": {
   "codemirror_mode": {
    "name": "ipython",
    "version": 3
   },
   "file_extension": ".py",
   "mimetype": "text/x-python",
   "name": "python",
   "nbconvert_exporter": "python",
   "pygments_lexer": "ipython3",
   "version": "3.8.2"
  }
 },
 "nbformat": 4,
 "nbformat_minor": 2
}
